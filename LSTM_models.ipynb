{
 "cells": [
  {
   "cell_type": "markdown",
   "metadata": {},
   "source": [
    "# LSTM Models\n",
    "This notebook contains code for training and evaluating the LSTM-based models of the project."
   ]
  },
  {
   "cell_type": "markdown",
   "metadata": {},
   "source": [
    "## Imports"
   ]
  },
  {
   "cell_type": "code",
   "execution_count": 1,
   "metadata": {},
   "outputs": [
    {
     "name": "stderr",
     "output_type": "stream",
     "text": [
      "2023-01-02 18:22:15.901130: I tensorflow/core/platform/cpu_feature_guard.cc:193] This TensorFlow binary is optimized with oneAPI Deep Neural Network Library (oneDNN) to use the following CPU instructions in performance-critical operations:  AVX2 FMA\n",
      "To enable them in other operations, rebuild TensorFlow with the appropriate compiler flags.\n"
     ]
    }
   ],
   "source": [
    "# General\n",
    "import numpy as np\n",
    "from scipy import signal\n",
    "from tqdm import tqdm\n",
    "import matplotlib as mpl\n",
    "import matplotlib.pyplot as plt\n",
    "import seaborn as sns\n",
    "import matplotlib.pyplot as plt\n",
    "from matplotlib.lines import Line2D\n",
    "from matplotlib import rc\n",
    "from collections import Counter\n",
    "from sklearn.metrics import f1_score\n",
    "\n",
    "# Torch modules\n",
    "import torch\n",
    "import torch.autograd as autograd\n",
    "from torch import Tensor\n",
    "import torch.nn as nn\n",
    "import torch.nn.functional as F\n",
    "import torch.optim as optim\n",
    "\n",
    "# Bespoke functions\n",
    "from src import (\n",
    "    load_depresjon,\n",
    "    load_psykose,\n",
    "    load_joint_dataset,\n",
    "    convert_to_torch,\n",
    "    validation_metrics,\n",
    "    find_longest_sequence,\n",
    "    reconstruct_data_sequences,\n",
    "    check_reconstructed_sequences,\n",
    "    batch_full_sequence,\n",
    "    balance_train,\n",
    "    batch_data,\n",
    "    plot_training_progress,\n",
    "    train\n",
    ")\n",
    "\n",
    "# Settings\n",
    "sns.set_style(\"whitegrid\")\n",
    "sns.set_context(\"paper\")\n",
    "rc(\"font\", family=\"serif\", size=18)\n",
    "rc(\"text\", usetex=False)\n",
    "sns.set(rc={\"figure.figsize\": (11.7, 8.27)})"
   ]
  },
  {
   "cell_type": "markdown",
   "metadata": {},
   "source": [
    "## 1st and 2nd batch of experiments\n",
    "This 1st part of the module contains the code for our initial experiments with LSTM-based model architectures. All of these are trained on 24 hour subsequences. We define three models:\n",
    "- `AttentionLSTM`: The original proposed architecture – a bidirectional LSTM model with an attention layer.\n",
    "- `SimpleLSTM`: A simpler version of `AttentionLSTM` where hidden states are not averaged before they are passed to the dense layers.\n",
    "- `MultipleLSTMCells`: An LSTM models with multiple independent LSTMCells, corresponding to each time point in the motor activity sequence, each with its own hyperparameters.\n",
    "\n",
    "For the sake of brevity, we only show an example of training of one of these models since none of the models were performing very well."
   ]
  },
  {
   "cell_type": "markdown",
   "metadata": {},
   "source": [
    "### Load the data"
   ]
  },
  {
   "cell_type": "code",
   "execution_count": 2,
   "metadata": {},
   "outputs": [
    {
     "name": "stderr",
     "output_type": "stream",
     "text": [
      "2023-01-02 18:07:05.591 | INFO     | src.load_data:load_depresjon:44 - Loading depresjon\n",
      "2023-01-02 18:07:09.342 | INFO     | src.load_data:load_psykose:77 - Loading psykose\n",
      "2023-01-02 18:07:10.802 | INFO     | src.load_data:load_hyperaktiv:110 - Loading hyperaktiv\n",
      "2023-01-02 18:09:24.820 | INFO     | src.load_data:convert_to_torch:180 - Applying preprocessing and converting to torch\n",
      "2023-01-02 18:09:24.821 | INFO     | src.load_data:convert_to_torch:184 - Filtering out problematic dates\n",
      "2023-01-02 18:09:27.081 | INFO     | src.load_data:convert_to_torch:196 - Filtering out data points before the earliest 00:00 and after the latest 23:59 for each subject\n",
      "2023-01-02 18:09:36.383 | INFO     | src.load_data:convert_to_torch:229 - Splitting dataset in train, validation, and test datasets\n",
      "2023-01-02 18:09:50.190 | INFO     | src.utils:train_val_test_split_sequences:313 - Split dataset into\n",
      "   Training set:\n",
      "      59.33% of total sequences\n",
      "      Subjects: ADHD: 38, ADHD_Control: 31, DEPR: 19, DEPR_Control: 22, SZ: 20\n",
      "   Validation set:\n",
      "      20.26% of total sequences\n",
      "      Subjects: ADHD: 7, DEPR_Control: 10, DEPR: 4, ADHD_Control: 9, SZ: 2\n",
      "   Test set:\n",
      "      20.42% of total sequences\n",
      "      Subjects: ADHD: 6, DEPR: 9, SZ: 2, ADHD_Control: 9, DEPR_Control: 6\n",
      "2023-01-02 18:09:50.191 | INFO     | src.load_data:convert_to_torch:240 - Converting dataframes to lists of torch tensors\n"
     ]
    }
   ],
   "source": [
    "df = load_joint_dataset()\n",
    "device = torch.device(\"cuda:0\" if torch.cuda.is_available() else \"cpu\")\n",
    "data = convert_to_torch(\n",
    "    df,\n",
    "    slice_seq=True,\n",
    "    preprocessing=\"smooth\",\n",
    "    k=5,\n",
    "    train_perc=0.60,\n",
    "    val_perc=0.20,\n",
    "    random_seed=42,\n",
    "    device=device,\n",
    ")\n",
    "\n",
    "train_data, val_data, test_data = data"
   ]
  },
  {
   "cell_type": "markdown",
   "metadata": {},
   "source": [
    "### Define the models"
   ]
  },
  {
   "cell_type": "code",
   "execution_count": 3,
   "metadata": {},
   "outputs": [],
   "source": [
    "class AttentionLSTM(nn.Module):\n",
    "    def __init__(self, seq_len, LSTM_hidden_size, n_layers, output_size, dropout_prob):\n",
    "        super(AttentionLSTM, self).__init__()\n",
    "        self.lstm = nn.LSTM(1, LSTM_hidden_size, n_layers, bidirectional=True)\n",
    "        self.dense_1 = nn.Linear(seq_len, seq_len)\n",
    "        self.dense_2 = nn.Linear(seq_len, seq_len // 10)\n",
    "        self.dropout = nn.Dropout(p=dropout_prob)\n",
    "        self.dense_3 = nn.Linear(seq_len // 10, output_size)\n",
    "\n",
    "    def forward(self, x):\n",
    "        # Send sequence through LSTM and concatenate hidden states\n",
    "        hidden_states, _ = self.lstm(x)\n",
    "        hidden_states_cat = hidden_states.mean(axis=1)\n",
    "\n",
    "        # Send through 1st dense layer\n",
    "        output_dense_1 = self.dense_1(hidden_states_cat)\n",
    "        attention_scores = F.softmax(output_dense_1, dim=0)\n",
    "\n",
    "        # Compute the context vector\n",
    "        context_vector = attention_scores * hidden_states_cat\n",
    "        context_vector = torch.tanh(context_vector)\n",
    "\n",
    "        # Compute prediction\n",
    "        output_dense_2 = self.dense_2(context_vector)\n",
    "        output_dense_2 = torch.tanh(output_dense_2)\n",
    "        output_dense_2 = self.dropout(output_dense_2)\n",
    "        output_dense_3 = self.dense_3(output_dense_2)\n",
    "        output_dense_3 = torch.tanh(output_dense_3)\n",
    "\n",
    "        return output_dense_3\n",
    "\n",
    "\n",
    "class SimpleLSTM(nn.Module):\n",
    "    def __init__(\n",
    "        self,\n",
    "        seq_len,\n",
    "        LSTM_hidden_size,\n",
    "        n_LSTM_layers,\n",
    "        linear_hidden_size,\n",
    "        output_size,\n",
    "        dropout_1_prob,\n",
    "        dropout_2_prob,\n",
    "    ):\n",
    "        super(SimpleLSTM, self).__init__()\n",
    "        self.lstm = nn.LSTM(1, LSTM_hidden_size, n_LSTM_layers, bidirectional=True)\n",
    "        self.linear_1 = nn.Linear(seq_len * 2 * LSTM_hidden_size, linear_hidden_size)\n",
    "        self.linear_2 = nn.Linear(linear_hidden_size, output_size)\n",
    "        self.dropout_1 = nn.Dropout(dropout_1_prob)\n",
    "        self.dropout_2 = nn.Dropout(dropout_2_prob)\n",
    "\n",
    "    def forward(self, x):\n",
    "        x, _ = self.lstm(x)\n",
    "        x = x.flatten()\n",
    "        x = torch.tanh(x)\n",
    "        x = self.dropout_1(x)\n",
    "        x = self.linear_1(x)\n",
    "        x = torch.tanh(x)\n",
    "        x = self.dropout_2(x)\n",
    "        x = self.linear_2(x)\n",
    "        return x\n",
    "\n",
    "\n",
    "class MultipleLSTMCells(nn.Module):\n",
    "    def __init__(\n",
    "        self,\n",
    "        seq_len,\n",
    "        LSTM_hidden_size,\n",
    "        linear_size,\n",
    "        output_size,\n",
    "        dropout_prob_1,\n",
    "        dropout_prob_2,\n",
    "        device,\n",
    "    ):\n",
    "        super(MultipleLSTMCells, self).__init__()\n",
    "        self.seq_len = seq_len\n",
    "        self.device = device\n",
    "        self.LSTM_hidden_size = LSTM_hidden_size\n",
    "        self.LSTM_cells_forward = nn.ModuleList(\n",
    "            [nn.LSTMCell(1, LSTM_hidden_size) for _ in range(seq_len)]\n",
    "        )\n",
    "        self.LSTM_cells_backward = nn.ModuleList(\n",
    "            [nn.LSTMCell(1, LSTM_hidden_size) for _ in range(seq_len)]\n",
    "        )\n",
    "        self.dropout_1 = nn.Dropout(dropout_prob_1)\n",
    "        self.linear_1 = nn.Linear(seq_len * LSTM_hidden_size * 2, 500)\n",
    "        self.dropout_2 = nn.Dropout(dropout_prob_2)\n",
    "        self.linear_2 = nn.Linear(linear_size, output_size)\n",
    "\n",
    "    def forward(self, x):\n",
    "        # Perform forward pass\n",
    "        hx, cx = 2 * [torch.zeros(self.LSTM_hidden_size).to(self.device)]\n",
    "        hidden_outputs_forward = torch.empty((self.seq_len, self.LSTM_hidden_size)).to(self.device)\n",
    "        for time_step in range(len(x)):\n",
    "            hx, cx = self.LSTM_cells_forward[time_step](x[time_step], (hx, cx))\n",
    "            hidden_outputs_forward[time_step] = hx\n",
    "\n",
    "        # Perform backward pass\n",
    "        hx, cx = 2 * [torch.zeros(self.LSTM_hidden_size).to(self.device)]\n",
    "        hidden_outputs_backward = torch.empty((self.seq_len, self.LSTM_hidden_size)).to(self.device)\n",
    "        for time_step in range(len(x) - 1, -1, -1):\n",
    "            hx, cx = self.LSTM_cells_forward[time_step](x[time_step], (hx, cx))\n",
    "            hidden_outputs_backward[time_step] = hx\n",
    "\n",
    "        # Pass through linear layers\n",
    "        x = torch.cat(\n",
    "            [hidden_outputs_forward, hidden_outputs_backward], dim=1\n",
    "        ).flatten()\n",
    "        x = torch.tanh(x)\n",
    "        x = self.dropout_1(x)\n",
    "        x = self.linear_1(x)\n",
    "        x = torch.tanh(x)\n",
    "        x = self.dropout_2(x)\n",
    "        x = self.linear_2(x)\n",
    "        return x"
   ]
  },
  {
   "cell_type": "markdown",
   "metadata": {},
   "source": [
    "### Initialise the model"
   ]
  },
  {
   "cell_type": "code",
   "execution_count": 4,
   "metadata": {},
   "outputs": [
    {
     "data": {
      "text/plain": [
       "tensor([-0.1402,  0.0414, -0.0419,  0.0042], grad_fn=<AddBackward0>)"
      ]
     },
     "execution_count": 4,
     "metadata": {},
     "output_type": "execute_result"
    }
   ],
   "source": [
    "# Define model parameters\n",
    "seq_len = len(train_data[0][0])\n",
    "output_dim = len(train_data[0][1])\n",
    "LSTM_hidden_size = 20\n",
    "n_LSTM_layers = 2\n",
    "linear_hidden_size = 32\n",
    "dropout_prob_1 = 0.1\n",
    "dropout_prob_2 = 0.1\n",
    "\n",
    "# Initialize the model\n",
    "model = SimpleLSTM(\n",
    "    seq_len,\n",
    "    LSTM_hidden_size,\n",
    "    n_LSTM_layers,\n",
    "    linear_hidden_size,\n",
    "    output_dim,\n",
    "    dropout_prob_1,\n",
    "    dropout_prob_2,\n",
    ")\n",
    "model.to(device)\n",
    "model(train_data[0][0])"
   ]
  },
  {
   "cell_type": "markdown",
   "metadata": {},
   "source": [
    "### Train the model"
   ]
  },
  {
   "cell_type": "code",
   "execution_count": null,
   "metadata": {
    "colab": {
     "base_uri": "https://localhost:8080/",
     "height": 1000
    },
    "id": "FkyKr-D0VgP3",
    "outputId": "51e88c86-689a-4375-b0ab-3695b5596e0d"
   },
   "outputs": [
    {
     "name": "stdout",
     "output_type": "stream",
     "text": [
      "tensor([6.7696, 2.0721, 5.7982, 5.0706])\n"
     ]
    },
    {
     "name": "stderr",
     "output_type": "stream",
     "text": [
      "\r  0%|          | 0/20 [00:00<?, ?it/s]"
     ]
    },
    {
     "name": "stdout",
     "output_type": "stream",
     "text": [
      "Epoch: 1 loss: 0.91209\n"
     ]
    },
    {
     "name": "stderr",
     "output_type": "stream",
     "text": [
      "\r  5%|▌         | 1/20 [00:20<06:24, 20.22s/it]"
     ]
    },
    {
     "name": "stdout",
     "output_type": "stream",
     "text": [
      "Epoch: 2 loss: 0.87382\n"
     ]
    },
    {
     "name": "stderr",
     "output_type": "stream",
     "text": [
      "\r 10%|█         | 2/20 [00:40<06:02, 20.14s/it]"
     ]
    },
    {
     "name": "stdout",
     "output_type": "stream",
     "text": [
      "Epoch: 3 loss: 0.86705\n"
     ]
    },
    {
     "name": "stderr",
     "output_type": "stream",
     "text": [
      "\r 15%|█▌        | 3/20 [01:00<05:46, 20.39s/it]"
     ]
    },
    {
     "name": "stdout",
     "output_type": "stream",
     "text": [
      "Epoch: 4 loss: 0.86033\n"
     ]
    },
    {
     "name": "stderr",
     "output_type": "stream",
     "text": [
      "\r 20%|██        | 4/20 [01:20<05:23, 20.23s/it]"
     ]
    },
    {
     "name": "stdout",
     "output_type": "stream",
     "text": [
      "Epoch: 5 loss: 0.85547\n"
     ]
    },
    {
     "name": "stderr",
     "output_type": "stream",
     "text": [
      "\r 25%|██▌       | 5/20 [01:40<05:01, 20.11s/it]"
     ]
    },
    {
     "name": "stdout",
     "output_type": "stream",
     "text": [
      "Epoch: 6 loss: 0.85292\n"
     ]
    },
    {
     "name": "stderr",
     "output_type": "stream",
     "text": [
      "\r 30%|███       | 6/20 [02:00<04:40, 20.01s/it]"
     ]
    },
    {
     "name": "stdout",
     "output_type": "stream",
     "text": [
      "Epoch: 7 loss: 0.84780\n"
     ]
    },
    {
     "name": "stderr",
     "output_type": "stream",
     "text": [
      "\r 35%|███▌      | 7/20 [02:20<04:19, 20.00s/it]"
     ]
    },
    {
     "name": "stdout",
     "output_type": "stream",
     "text": [
      "Epoch: 8 loss: 0.84622\n"
     ]
    },
    {
     "name": "stderr",
     "output_type": "stream",
     "text": [
      "\r 40%|████      | 8/20 [02:40<03:59, 19.97s/it]"
     ]
    },
    {
     "name": "stdout",
     "output_type": "stream",
     "text": [
      "Epoch: 9 loss: 0.84485\n"
     ]
    },
    {
     "name": "stderr",
     "output_type": "stream",
     "text": [
      "\r 45%|████▌     | 9/20 [03:00<03:39, 19.92s/it]"
     ]
    },
    {
     "name": "stdout",
     "output_type": "stream",
     "text": [
      "Epoch: 10 loss: 0.84460\n"
     ]
    },
    {
     "name": "stderr",
     "output_type": "stream",
     "text": [
      "\r 50%|█████     | 10/20 [03:20<03:21, 20.11s/it]"
     ]
    },
    {
     "name": "stdout",
     "output_type": "stream",
     "text": [
      "Epoch: 11 loss: 0.84239\n"
     ]
    },
    {
     "name": "stderr",
     "output_type": "stream",
     "text": [
      "\r 55%|█████▌    | 11/20 [03:40<03:00, 20.09s/it]"
     ]
    },
    {
     "name": "stdout",
     "output_type": "stream",
     "text": [
      "Epoch: 12 loss: 0.84107\n"
     ]
    },
    {
     "name": "stderr",
     "output_type": "stream",
     "text": [
      "\r 60%|██████    | 12/20 [04:00<02:40, 20.07s/it]"
     ]
    },
    {
     "name": "stdout",
     "output_type": "stream",
     "text": [
      "Epoch: 13 loss: 0.83708\n"
     ]
    },
    {
     "name": "stderr",
     "output_type": "stream",
     "text": [
      "\r 65%|██████▌   | 13/20 [04:21<02:20, 20.05s/it]"
     ]
    },
    {
     "name": "stdout",
     "output_type": "stream",
     "text": [
      "Epoch: 14 loss: 0.83687\n"
     ]
    },
    {
     "name": "stderr",
     "output_type": "stream",
     "text": [
      "\r 70%|███████   | 14/20 [04:40<02:00, 20.01s/it]"
     ]
    },
    {
     "name": "stdout",
     "output_type": "stream",
     "text": [
      "Epoch: 15 loss: 0.83437\n"
     ]
    },
    {
     "name": "stderr",
     "output_type": "stream",
     "text": [
      "\r 75%|███████▌  | 15/20 [05:00<01:39, 19.99s/it]"
     ]
    },
    {
     "name": "stdout",
     "output_type": "stream",
     "text": [
      "Epoch: 16 loss: 0.83501\n"
     ]
    },
    {
     "name": "stderr",
     "output_type": "stream",
     "text": [
      "\r 80%|████████  | 16/20 [05:20<01:19, 19.98s/it]"
     ]
    },
    {
     "name": "stdout",
     "output_type": "stream",
     "text": [
      "Epoch: 17 loss: 0.83225\n"
     ]
    },
    {
     "name": "stderr",
     "output_type": "stream",
     "text": [
      "\r 85%|████████▌ | 17/20 [05:40<00:59, 19.95s/it]"
     ]
    },
    {
     "name": "stdout",
     "output_type": "stream",
     "text": [
      "Epoch: 18 loss: 0.83248\n"
     ]
    },
    {
     "name": "stderr",
     "output_type": "stream",
     "text": [
      "\r 90%|█████████ | 18/20 [06:01<00:40, 20.12s/it]"
     ]
    },
    {
     "name": "stdout",
     "output_type": "stream",
     "text": [
      "Epoch: 19 loss: 0.82957\n"
     ]
    },
    {
     "name": "stderr",
     "output_type": "stream",
     "text": [
      "\r 95%|█████████▌| 19/20 [06:21<00:20, 20.05s/it]"
     ]
    },
    {
     "name": "stdout",
     "output_type": "stream",
     "text": [
      "Epoch: 20 loss: 0.82761\n"
     ]
    },
    {
     "name": "stderr",
     "output_type": "stream",
     "text": [
      "100%|██████████| 20/20 [06:40<00:00, 20.05s/it]\n"
     ]
    },
    {
     "data": {
      "image/png": "[encoded data removed]",
      "text/plain": [
       "<Figure size 1152x648 with 1 Axes>"
      ]
     },
     "metadata": {},
     "output_type": "display_data"
    }
   ],
   "source": [
    "# Define training parameters\n",
    "learning_rate = 0.001\n",
    "epochs = 20\n",
    "\n",
    "# Train model\n",
    "model, train_f1s, val_f1s = train(\n",
    "    model,\n",
    "    train_data,\n",
    "    val_data,\n",
    "    learning_rate=learning_rate,\n",
    "    epochs=epochs,\n",
    "    device=device\n",
    ")\n",
    "\n",
    "# Plot training progress\n",
    "plot_training_progress(train_f1s, val_f1s)"
   ]
  },
  {
   "cell_type": "markdown",
   "metadata": {},
   "source": [
    "## BiLSTM with attention using full sequences but split training\n",
    "This part of the notebook contains the BiLSTM with attention implementation but trains the model on segments of the train dataset in a bid to provide empirical evidence that increases in the train data leads to an increase in the model's performance. The train data used here consists of full length sequences that have not been averaged. These sequences were just batched and then passed through an LSTM encoder to generate 1440 (24 hour) data sequences which were then used in the remainder of the network."
   ]
  },
  {
   "cell_type": "markdown",
   "metadata": {
    "cell_id": "706cbc23bbe2482cb8468c74c3bb2c9c",
    "deepnote_cell_type": "markdown",
    "id": "07vIagh3HGBo"
   },
   "source": [
    "### Load the data"
   ]
  },
  {
   "cell_type": "code",
   "execution_count": null,
   "metadata": {
    "cell_id": "a59831fb7f73495bb41b8c9c654eafee",
    "colab": {
     "base_uri": "https://localhost:8080/"
    },
    "deepnote_cell_type": "code",
    "id": "VPk6t0qzHH3p",
    "outputId": "2f4b637a-a202-46cf-fca5-6f7a400162fc"
   },
   "outputs": [
    {
     "name": "stdout",
     "output_type": "stream",
     "text": [
      "\u001b[?25l\r\n",
      "\u001b[K     |█████▋                          | 10 kB 22.3 MB/s eta 0:00:01\r\n",
      "\u001b[K     |███████████▎                    | 20 kB 27.0 MB/s eta 0:00:01\r\n",
      "\u001b[K     |████████████████▉               | 30 kB 9.4 MB/s eta 0:00:01\r\n",
      "\u001b[K     |██████████████████████▌         | 40 kB 4.6 MB/s eta 0:00:01\r\n",
      "\u001b[K     |████████████████████████████    | 51 kB 5.3 MB/s eta 0:00:01\r\n",
      "\u001b[K     |████████████████████████████████| 58 kB 2.9 MB/s \n",
      "\u001b[?25h"
     ]
    },
    {
     "name": "stderr",
     "output_type": "stream",
     "text": [
      "2023-01-02 12:29:18.198 | INFO     | load_data:load_depresjon:36 - Loading depresjon\n",
      "2023-01-02 12:29:23.765 | INFO     | load_data:load_psykose:54 - Loading psykose\n",
      "2023-01-02 12:29:26.373 | INFO     | load_data:load_hyperaktiv:72 - Loading hyperaktiv\n",
      "2023-01-02 12:30:49.077 | INFO     | load_data:convert_to_torch:222 - Converting to torch\n",
      "2023-01-02 12:30:49.079 | INFO     | load_data:convert_to_torch:225 - Filtering out problematic dates\n",
      "2023-01-02 12:31:13.306 | INFO     | load_data:train_val_test_split:188 - Split dataset into\n",
      "   Training set:\n",
      "      59.49% of total sequences\n",
      "      Subjects: ADHD: 36, ADHD_Control: 36, DEPR_Control: 27, SZ: 16, DEPR: 18\n",
      "   Validation set:\n",
      "      20.20% of total sequences\n",
      "      Subjects: ADHD: 9, ADHD_Control: 4, DEPR_Control: 5, DEPR: 5, SZ: 6\n",
      "   Test set:\n",
      "      20.31% of total sequences\n",
      "      Subjects: DEPR_Control: 7, ADHD: 7, ADHD_Control: 6, SZ: 5, DEPR: 4\n",
      "\n"
     ]
    }
   ],
   "source": [
    "df = load_joint_dataset()\n",
    "device = torch.device(\"cuda:0\" if torch.cuda.is_available() else \"cpu\")\n",
    "data = convert_to_torch(\n",
    "    df,\n",
    "    slice_seq=False,\n",
    "    preprocessing=\"False\",\n",
    "    k=10,\n",
    "    train_perc=0.60,\n",
    "    val_perc=0.20,\n",
    "    random_seed=42,\n",
    "    device=device,\n",
    ")\n",
    "\n",
    "train_data, val_data, test_data = data"
   ]
  },
  {
   "cell_type": "markdown",
   "metadata": {
    "cell_id": "134c7767237b407480450cd2ee870d91",
    "deepnote_cell_type": "markdown",
    "id": "ppVM5wTl88av"
   },
   "source": [
    "### Breakup of the data for experiments\n"
   ]
  },
  {
   "cell_type": "code",
   "execution_count": null,
   "metadata": {
    "cell_id": "c91b7a3a67e24e81a786a6c8e0ab55f2",
    "colab": {
     "base_uri": "https://localhost:8080/"
    },
    "deepnote_cell_type": "code",
    "id": "gS8fT8We8_8Z",
    "outputId": "1041c808-846e-4ea7-d782-ff4890b06cda"
   },
   "outputs": [
    {
     "name": "stdout",
     "output_type": "stream",
     "text": [
      "26\n"
     ]
    }
   ],
   "source": [
    "# Break-up of the train data\n",
    "half_train = train_data[:len(train_data)//2]\n",
    "quarter_train = train_data[:len(train_data)//4]\n",
    "sixth_train = train_data[:len(train_data)//6]\n",
    "\n",
    "print(len(quarter_train))"
   ]
  },
  {
   "cell_type": "markdown",
   "metadata": {
    "cell_id": "870facb2d4be4a0ba025e2b696cf61ce",
    "deepnote_cell_type": "markdown",
    "id": "Xxkcxy7N4pnz"
   },
   "source": [
    "### Balance the train dataset"
   ]
  },
  {
   "cell_type": "code",
   "execution_count": null,
   "metadata": {
    "cell_id": "5baa9f2499d04ee2a8f76bfe1933264d",
    "deepnote_cell_type": "code",
    "id": "nAQQh_rm4uxE"
   },
   "outputs": [],
   "source": [
    "balanced_train_data = balance_train(train_data)"
   ]
  },
  {
   "cell_type": "markdown",
   "metadata": {
    "cell_id": "bee005d07a744d839bc00e1a2a03e501",
    "deepnote_cell_type": "markdown",
    "id": "XUCPUqN5HWTA"
   },
   "source": [
    "### Ascertain the number of data points in the longest present sequence"
   ]
  },
  {
   "cell_type": "code",
   "execution_count": null,
   "metadata": {
    "cell_id": "90ea24e8e6f349a8940bcf7c2e6c880a",
    "colab": {
     "base_uri": "https://localhost:8080/"
    },
    "deepnote_cell_type": "code",
    "id": "i4HEEMr2HfzF",
    "outputId": "fa176950-fcf9-4d86-c27f-d4c0d374f76b"
   },
   "outputs": [
    {
     "data": {
      "text/plain": [
       "48960"
      ]
     },
     "metadata": {},
     "output_type": "display_data"
    }
   ],
   "source": [
    "longest_length = find_longest_sequence([quarter_train, test_data, val_data])\n",
    "longest_length"
   ]
  },
  {
   "cell_type": "markdown",
   "metadata": {
    "cell_id": "ec5babfc962747ab924474f88daf23a0",
    "deepnote_cell_type": "markdown",
    "id": "eiGyCwIuJ29l"
   },
   "source": [
    "### Reconstruct the data sequences to ensure that they all have the same length\n"
   ]
  },
  {
   "cell_type": "code",
   "execution_count": null,
   "metadata": {
    "cell_id": "f3d0dfb942eb43eea37ae655271f9e41",
    "colab": {
     "base_uri": "https://localhost:8080/"
    },
    "deepnote_cell_type": "code",
    "id": "zo6WNDl8Jg_G",
    "outputId": "26040525-fded-4496-c2d6-9433a7a0e1de"
   },
   "outputs": [
    {
     "name": "stdout",
     "output_type": "stream",
     "text": [
      "26\n"
     ]
    }
   ],
   "source": [
    "reconstructed_train, reconstructed_val, reconstructed_test = reconstruct_data_sequences(\n",
    "    [quarter_train, test_data, val_data], 48960\n",
    ")\n",
    "print(len(reconstructed_train))"
   ]
  },
  {
   "cell_type": "code",
   "execution_count": null,
   "metadata": {
    "cell_id": "6647ef0d01d8448288fabb8ea95e7a16",
    "colab": {
     "base_uri": "https://localhost:8080/"
    },
    "deepnote_cell_type": "code",
    "id": "qi6IkJUZQhhq",
    "outputId": "19d11d91-a29d-4700-dbb3-9c003a151069"
   },
   "outputs": [
    {
     "data": {
      "text/plain": [
       "True"
      ]
     },
     "metadata": {},
     "output_type": "display_data"
    }
   ],
   "source": [
    "check_reconstructed_sequences(reconstructed_train, 48960)"
   ]
  },
  {
   "cell_type": "markdown",
   "metadata": {
    "cell_id": "580f4618cf80477c9aa478cae3d974c5",
    "deepnote_cell_type": "markdown",
    "id": "xpctJPzDUNH5"
   },
   "source": [
    "### Define the BiLSTM with Attention Network"
   ]
  },
  {
   "cell_type": "code",
   "execution_count": null,
   "metadata": {
    "cell_id": "007f11f0bcfe457ba40e98d5bba32d50",
    "deepnote_cell_type": "code",
    "id": "UPXMyvRUTuK2"
   },
   "outputs": [],
   "source": [
    "class BiLSTMAttentionNetwork(nn.Module):\n",
    "    def __init__(\n",
    "        self,\n",
    "        total_input_seq_len,\n",
    "        encoder_output_len,\n",
    "        seq_len,\n",
    "        LSTM_input_len,\n",
    "        LSTM_hidden_size,\n",
    "        n_layers,\n",
    "        output_size,\n",
    "        dropout=0.0,\n",
    "    ):\n",
    "        super(BiLSTMAttentionNetwork, self).__init__()\n",
    "        self.encoder = nn.LSTM(\n",
    "            total_input_seq_len, encoder_output_len // 2, n_layers, bidirectional=True\n",
    "        )\n",
    "        self.lstm = nn.LSTM(\n",
    "            encoder_output_len, LSTM_hidden_size, n_layers, bidirectional=True\n",
    "        )\n",
    "        self.dense_1 = nn.Linear(LSTM_hidden_size * 2, LSTM_hidden_size * 2)\n",
    "        self.dense_2 = nn.Linear(LSTM_hidden_size * 2, seq_len)\n",
    "        self.dense_3 = nn.Linear(seq_len, seq_len // 2)\n",
    "        self.dropout = nn.Dropout(p=dropout)\n",
    "        self.dense_4 = nn.Linear(seq_len // 2, output_size)\n",
    "\n",
    "    def forward(self, x):\n",
    "        # batch the data sequence\n",
    "        batched_input = batch_full_sequence(x)\n",
    "\n",
    "        # Encode the data sequence\n",
    "        # encoded_input_sequence, _ = self.encoder(torch.transpose(x,0,1))\n",
    "        encoded_input_sequence, _ = self.encoder(batched_input)\n",
    "\n",
    "        # Flatten the encoded input sequence\n",
    "        flattened_encoded_input = encoded_input_sequence.flatten()\n",
    "\n",
    "        # Batch the generated encoded input sequence\n",
    "        batched_seq = batch_data(encoded_input_sequence)\n",
    "\n",
    "        # Send through LSTM and concatenate hidden states\n",
    "        hidden_states, _ = self.lstm(batched_seq)\n",
    "        hidden_states_cat = hidden_states.mean(axis=0)\n",
    "\n",
    "        # Send through 1st dense layer\n",
    "        output_dense_1 = self.dense_1(hidden_states_cat)\n",
    "        attention_scores = F.softmax(output_dense_1, dim=0)\n",
    "\n",
    "        # Compute the context vector\n",
    "        context_vector = attention_scores * hidden_states_cat\n",
    "        context_vector = torch.tanh(context_vector)\n",
    "\n",
    "        # Compute prediction\n",
    "        output_dense_2 = self.dense_2(context_vector)\n",
    "        output_dense_2 = torch.tanh(output_dense_2)\n",
    "        output_dense_3 = self.dense_3(output_dense_2)\n",
    "        output_dense_3 = torch.tanh(output_dense_3)\n",
    "        output_dense_3 = self.dropout(output_dense_3)\n",
    "        output_dense_4 = self.dense_4(output_dense_3)\n",
    "\n",
    "        return output_dense_4"
   ]
  },
  {
   "cell_type": "markdown",
   "metadata": {
    "cell_id": "d08537af432446c59f5f97e9e092bdaa",
    "deepnote_cell_type": "markdown",
    "id": "VX58av6ZX6MJ"
   },
   "source": [
    "### Initialise the BiLSTM Attention Network"
   ]
  },
  {
   "cell_type": "code",
   "execution_count": null,
   "metadata": {
    "cell_id": "3423e56cf2ba4195b805d98a66699aee",
    "colab": {
     "base_uri": "https://localhost:8080/"
    },
    "deepnote_cell_type": "code",
    "id": "qla_JNphX-c-",
    "outputId": "e743e582-422f-485b-b3ed-988783c03d4b"
   },
   "outputs": [
    {
     "data": {
      "text/plain": [
       "BiLSTMAttentionNetwork(\n",
       "  (encoder): LSTM(12240, 180, bidirectional=True)\n",
       "  (lstm): LSTM(360, 150, bidirectional=True)\n",
       "  (dense_1): Linear(in_features=300, out_features=300, bias=True)\n",
       "  (dense_2): Linear(in_features=300, out_features=50, bias=True)\n",
       "  (dense_3): Linear(in_features=50, out_features=25, bias=True)\n",
       "  (dropout): Dropout(p=0.0, inplace=False)\n",
       "  (dense_4): Linear(in_features=25, out_features=4, bias=True)\n",
       ")"
      ]
     },
     "metadata": {},
     "output_type": "display_data"
    }
   ],
   "source": [
    "# Define model parameters\n",
    "LSTM_hidden_size = 150\n",
    "n_layers = 1\n",
    "dropout = 0.1\n",
    "seq_len = 50\n",
    "LSTM_input_len = 12240\n",
    "output_size = 4\n",
    "total_input_seq_len = longest_length // 4\n",
    "encoder_output_len = 360\n",
    "\n",
    "# Initialize the model\n",
    "model = BiLSTMAttentionNetwork(\n",
    "    total_input_seq_len,\n",
    "    encoder_output_len,\n",
    "    seq_len,\n",
    "    LSTM_input_len,\n",
    "    LSTM_hidden_size,\n",
    "    n_layers,\n",
    "    output_size,\n",
    "    dropout=0.0,\n",
    ")\n",
    "model.to(device)"
   ]
  },
  {
   "cell_type": "markdown",
   "metadata": {
    "cell_id": "09ac1edd2e7a46bfac4de2f2384627b6",
    "deepnote_cell_type": "markdown",
    "id": "nbj3ckU8YjN2"
   },
   "source": [
    "Training the model"
   ]
  },
  {
   "cell_type": "code",
   "execution_count": null,
   "metadata": {
    "cell_id": "df87cb3bbcc0453d851af3b571b4a66e",
    "colab": {
     "base_uri": "https://localhost:8080/",
     "height": 1000
    },
    "deepnote_cell_type": "code",
    "id": "2ZBu-jkFYrca",
    "outputId": "d6a110f8-bc66-45fc-800e-b7d7b35e0159"
   },
   "outputs": [
    {
     "name": "stderr",
     "output_type": "stream",
     "text": [
      "\r\n",
      "  0%|          | 0/5 [00:00<?, ?it/s]"
     ]
    },
    {
     "name": "stdout",
     "output_type": "stream",
     "text": [
      "Epoch: 1 loss: 0.00896\n",
      "actual class values:  [0, 0, 0, 1, 0, 1, 1, 1, 0, 1, 1, 3, 0, 1, 3, 0, 2, 1, 0, 2, 1, 1, 3, 1, 2, 1, 3, 1, 2, 3, 0, 1, 2, 1, 0, 2, 0, 2, 3, 1, 2, 1, 1, 1, 0, 1, 1, 2, 1, 3, 1, 1]\n",
      "predicted class values:  [0, 0, 0, 1, 0, 1, 1, 1, 0, 1, 1, 3, 0, 1, 3, 0, 3, 1, 0, 3, 1, 1, 3, 1, 3, 1, 3, 1, 3, 3, 0, 1, 3, 1, 0, 3, 0, 3, 3, 1, 3, 1, 1, 1, 0, 1, 1, 3, 1, 3, 1, 1]\n",
      "actual class values:  [1, 2, 0, 3, 3, 1, 2, 1, 1, 3, 2, 1, 1, 1, 2, 1, 1, 1, 1, 3, 2, 1, 0, 3, 1, 0, 1, 1, 1]\n"
     ]
    },
    {
     "name": "stderr",
     "output_type": "stream",
     "text": [
      "\r\n",
      " 20%|██        | 1/5 [00:03<00:12,  3.15s/it]"
     ]
    },
    {
     "name": "stdout",
     "output_type": "stream",
     "text": [
      "predicted class values:  [0, 1, 0, 1, 1, 3, 1, 0, 1, 1, 0, 3, 0, 3, 3, 1, 1, 3, 1, 3, 0, 3, 3, 3, 3, 0, 3, 3, 3]\n",
      "Epoch: 2 loss: 0.00719\n",
      "actual class values:  [0, 0, 0, 1, 0, 1, 1, 1, 0, 1, 1, 3, 0, 1, 3, 0, 2, 1, 0, 2, 1, 1, 3, 1, 2, 1, 3, 1, 2, 3, 0, 1, 2, 1, 0, 2, 0, 2, 3, 1, 2, 1, 1, 1, 0, 1, 1, 2, 1, 3, 1, 1]\n",
      "predicted class values:  [0, 0, 0, 1, 0, 1, 1, 1, 0, 1, 1, 2, 0, 1, 2, 0, 2, 1, 0, 2, 1, 1, 2, 1, 2, 1, 2, 1, 2, 2, 0, 1, 2, 1, 0, 2, 0, 2, 2, 1, 2, 1, 1, 1, 0, 1, 1, 2, 1, 2, 1, 1]\n",
      "actual class values:  [1, 2, 0, 3, 3, 1, 2, 1, 1, 3, 2, 1, 1, 1, 2, 1, 1, 1, 1, 3, 2, 1, 0, 3, 1, 0, 1, 1, 1]\n"
     ]
    },
    {
     "name": "stderr",
     "output_type": "stream",
     "text": [
      "\r\n",
      " 40%|████      | 2/5 [00:06<00:09,  3.10s/it]"
     ]
    },
    {
     "name": "stdout",
     "output_type": "stream",
     "text": [
      "predicted class values:  [0, 1, 0, 1, 1, 2, 1, 0, 1, 1, 0, 2, 0, 2, 2, 1, 1, 0, 1, 2, 0, 0, 2, 2, 2, 0, 2, 2, 2]\n",
      "Epoch: 3 loss: 0.00645\n",
      "actual class values:  [0, 0, 0, 1, 0, 1, 1, 1, 0, 1, 1, 3, 0, 1, 3, 0, 2, 1, 0, 2, 1, 1, 3, 1, 2, 1, 3, 1, 2, 3, 0, 1, 2, 1, 0, 2, 0, 2, 3, 1, 2, 1, 1, 1, 0, 1, 1, 2, 1, 3, 1, 1]\n",
      "predicted class values:  [0, 0, 0, 1, 0, 1, 1, 1, 0, 1, 1, 2, 0, 1, 2, 0, 2, 1, 0, 2, 1, 1, 2, 1, 2, 1, 2, 1, 2, 2, 0, 1, 2, 1, 0, 2, 0, 2, 2, 1, 2, 1, 1, 1, 0, 1, 1, 2, 1, 2, 1, 1]\n",
      "actual class values:  [1, 2, 0, 3, 3, 1, 2, 1, 1, 3, 2, 1, 1, 1, 2, 1, 1, 1, 1, 3, 2, 1, 0, 3, 1, 0, 1, 1, 1]\n"
     ]
    },
    {
     "name": "stderr",
     "output_type": "stream",
     "text": [
      "\r\n",
      " 60%|██████    | 3/5 [00:09<00:06,  3.09s/it]"
     ]
    },
    {
     "name": "stdout",
     "output_type": "stream",
     "text": [
      "predicted class values:  [0, 1, 0, 1, 1, 2, 1, 0, 1, 1, 0, 2, 0, 2, 2, 1, 1, 0, 1, 2, 0, 0, 2, 2, 2, 0, 2, 2, 2]\n",
      "Epoch: 4 loss: 0.00610\n",
      "actual class values:  [0, 0, 0, 1, 0, 1, 1, 1, 0, 1, 1, 3, 0, 1, 3, 0, 2, 1, 0, 2, 1, 1, 3, 1, 2, 1, 3, 1, 2, 3, 0, 1, 2, 1, 0, 2, 0, 2, 3, 1, 2, 1, 1, 1, 0, 1, 1, 2, 1, 3, 1, 1]\n",
      "predicted class values:  [0, 0, 0, 1, 0, 1, 1, 1, 0, 1, 1, 2, 0, 1, 2, 0, 2, 1, 0, 2, 1, 1, 2, 1, 2, 1, 2, 1, 2, 2, 0, 1, 2, 1, 0, 2, 0, 2, 2, 1, 2, 1, 1, 1, 0, 1, 1, 2, 1, 2, 1, 1]\n",
      "actual class values:  [1, 2, 0, 3, 3, 1, 2, 1, 1, 3, 2, 1, 1, 1, 2, 1, 1, 1, 1, 3, 2, 1, 0, 3, 1, 0, 1, 1, 1]\n"
     ]
    },
    {
     "name": "stderr",
     "output_type": "stream",
     "text": [
      "\r\n",
      " 80%|████████  | 4/5 [00:12<00:03,  3.09s/it]"
     ]
    },
    {
     "name": "stdout",
     "output_type": "stream",
     "text": [
      "predicted class values:  [0, 1, 0, 1, 1, 2, 1, 0, 1, 1, 0, 2, 0, 2, 2, 1, 1, 0, 1, 1, 0, 0, 2, 2, 2, 0, 1, 2, 2]\n",
      "Epoch: 5 loss: 0.00576\n",
      "actual class values:  [0, 0, 0, 1, 0, 1, 1, 1, 0, 1, 1, 3, 0, 1, 3, 0, 2, 1, 0, 2, 1, 1, 3, 1, 2, 1, 3, 1, 2, 3, 0, 1, 2, 1, 0, 2, 0, 2, 3, 1, 2, 1, 1, 1, 0, 1, 1, 2, 1, 3, 1, 1]\n",
      "predicted class values:  [0, 0, 0, 1, 0, 1, 1, 1, 0, 1, 1, 2, 0, 1, 2, 0, 2, 1, 0, 2, 1, 1, 2, 1, 2, 1, 2, 1, 2, 2, 0, 1, 0, 1, 0, 2, 0, 0, 2, 1, 2, 1, 1, 1, 0, 1, 1, 2, 1, 2, 1, 1]\n",
      "actual class values:  [1, 2, 0, 3, 3, 1, 2, 1, 1, 3, 2, 1, 1, 1, 2, 1, 1, 1, 1, 3, 2, 1, 0, 3, 1, 0, 1, 1, 1]\n"
     ]
    },
    {
     "name": "stderr",
     "output_type": "stream",
     "text": [
      "100%|██████████| 5/5 [00:15<00:00,  3.09s/it]"
     ]
    },
    {
     "name": "stdout",
     "output_type": "stream",
     "text": [
      "predicted class values:  [1, 1, 0, 1, 1, 0, 1, 0, 1, 1, 0, 0, 0, 1, 0, 1, 1, 0, 1, 1, 1, 0, 1, 1, 0, 0, 1, 1, 0]\n"
     ]
    },
    {
     "name": "stderr",
     "output_type": "stream",
     "text": [
      "\n"
     ]
    },
    {
     "data": {
      "image/png": "[encoded data removed]",
      "text/plain": [
       "<Figure size 1152x648 with 1 Axes>"
      ]
     },
     "metadata": {},
     "output_type": "display_data"
    }
   ],
   "source": [
    "# Set learning parameters\n",
    "learning_rate = 0.001\n",
    "epochs = 5\n",
    "\n",
    "# Reconstruct motor activity sequences\n",
    "reconstructed_train, reconstructed_val, reconstructed_test = reconstruct_data_sequences(\n",
    "    [half_train, test_data, val_data], 48960\n",
    ")\n",
    "\n",
    "# Train the model\n",
    "model, train_f1s, val_f1s = train(\n",
    "    model,\n",
    "    reconstructed_train,\n",
    "    reconstructed_val,\n",
    "    learning_rate=learning_rate,\n",
    "    epochs=epochs,\n",
    "    device=device,\n",
    ")\n",
    "\n",
    "# Plot training progress\n",
    "plot_training_progress(train_f1s, val_f1s)"
   ]
  },
  {
   "cell_type": "markdown",
   "metadata": {},
   "source": [
    "## BiLSTM with attention implementation for batched 24 hour sequences\n",
    "This part of the notebook contains the BiLSTM with attention implementation for the complete sequence split data. In this implementation, each sequence is fed into a Linear Layer to encode it into a 1440 length sequence which is then passed through the BiLSTM layer to obtain the hidden vectors which are used in the remainder of the network."
   ]
  },
  {
   "cell_type": "markdown",
   "metadata": {
    "cell_id": "a7b9f026b1464cd98ff525287380b69b",
    "deepnote_cell_type": "markdown",
    "id": "L-GF7GU2p6le"
   },
   "source": [
    "### Load the data"
   ]
  },
  {
   "cell_type": "code",
   "execution_count": null,
   "metadata": {
    "cell_id": "be91c07eb8d846fbb0a477228ced56f2",
    "colab": {
     "base_uri": "https://localhost:8080/"
    },
    "deepnote_cell_type": "code",
    "id": "G_6_x2vap7MR",
    "outputId": "be985517-90f1-411d-893d-87ad211d4987"
   },
   "outputs": [
    {
     "name": "stdout",
     "output_type": "stream",
     "text": [
      "\u001b[?25l\r\n",
      "\u001b[K     |█████▋                          | 10 kB 23.4 MB/s eta 0:00:01\r\n",
      "\u001b[K     |███████████▎                    | 20 kB 25.5 MB/s eta 0:00:01\r\n",
      "\u001b[K     |████████████████▉               | 30 kB 9.7 MB/s eta 0:00:01\r\n",
      "\u001b[K     |██████████████████████▌         | 40 kB 4.5 MB/s eta 0:00:01\r\n",
      "\u001b[K     |████████████████████████████    | 51 kB 5.1 MB/s eta 0:00:01\r\n",
      "\u001b[K     |████████████████████████████████| 58 kB 2.7 MB/s \n",
      "\u001b[?25h"
     ]
    },
    {
     "name": "stderr",
     "output_type": "stream",
     "text": [
      "2023-01-02 13:33:18.586 | INFO     | load_data:load_depresjon:36 - Loading depresjon\n",
      "2023-01-02 13:33:21.945 | INFO     | load_data:load_psykose:54 - Loading psykose\n",
      "2023-01-02 13:33:24.091 | INFO     | load_data:load_hyperaktiv:72 - Loading hyperaktiv\n",
      "2023-01-02 13:34:42.864 | INFO     | load_data:convert_to_torch:222 - Converting to torch\n",
      "2023-01-02 13:34:42.866 | INFO     | load_data:convert_to_torch:225 - Filtering out problematic dates\n",
      "2023-01-02 13:35:05.983 | INFO     | load_data:train_val_test_split:188 - Split dataset into\n",
      "   Training set:\n",
      "      59.49% of total sequences\n",
      "      Subjects: ADHD: 36, ADHD_Control: 36, DEPR_Control: 27, SZ: 16, DEPR: 18\n",
      "   Validation set:\n",
      "      20.20% of total sequences\n",
      "      Subjects: ADHD: 9, ADHD_Control: 4, DEPR_Control: 5, DEPR: 5, SZ: 6\n",
      "   Test set:\n",
      "      20.31% of total sequences\n",
      "      Subjects: DEPR_Control: 7, ADHD: 7, ADHD_Control: 6, SZ: 5, DEPR: 4\n",
      "\n"
     ]
    }
   ],
   "source": [
    "df = load_joint_dataset()\n",
    "device = torch.device(\"cuda:0\" if torch.cuda.is_available() else \"cpu\")\n",
    "data = convert_to_torch(\n",
    "    df,\n",
    "    slice_seq=False,\n",
    "    preprocessing=\"False\",\n",
    "    k=10,\n",
    "    train_perc=0.60,\n",
    "    val_perc=0.20,\n",
    "    random_seed=42,\n",
    "    device=device,\n",
    ")\n",
    "\n",
    "train_data, val_data, test_data = data"
   ]
  },
  {
   "cell_type": "markdown",
   "metadata": {
    "cell_id": "7ef1c8544025488ebcee50e650f33ece",
    "deepnote_cell_type": "markdown",
    "id": "ndvso8V6qO36"
   },
   "source": [
    "### Balance the train dataset"
   ]
  },
  {
   "cell_type": "code",
   "execution_count": null,
   "metadata": {
    "cell_id": "d57dba0fc775466b8820f89a5fc61bcc",
    "deepnote_cell_type": "code",
    "id": "ZnM0u6uaqNfH"
   },
   "outputs": [],
   "source": [
    "balanced_train_data = balance_train(train_data)"
   ]
  },
  {
   "cell_type": "markdown",
   "metadata": {
    "cell_id": "75f8b71c6686420d955550654602b32a",
    "deepnote_cell_type": "markdown",
    "id": "5o6IwJL5qTnF"
   },
   "source": [
    "Ascertaining the number of data points in the longest present sequence"
   ]
  },
  {
   "cell_type": "code",
   "execution_count": null,
   "metadata": {
    "cell_id": "f112c6d5bbb04ce7a5528e0fd07f9b28",
    "colab": {
     "base_uri": "https://localhost:8080/"
    },
    "deepnote_cell_type": "code",
    "id": "QzjKZJJNqXTy",
    "outputId": "b2587763-6cbb-4db7-ec57-08e51d370cbc"
   },
   "outputs": [
    {
     "data": {
      "text/plain": [
       "64800"
      ]
     },
     "metadata": {},
     "output_type": "display_data"
    }
   ],
   "source": [
    "longest_length = find_longest_sequence([train_data, test_data, val_data])\n",
    "longest_length"
   ]
  },
  {
   "cell_type": "markdown",
   "metadata": {
    "cell_id": "43d11f0214914c3aa8080fdb02413a0b",
    "deepnote_cell_type": "markdown",
    "id": "PnN5WLqrqbks"
   },
   "source": [
    "### Reconstruct the data sequences to ensure that they all have the same length"
   ]
  },
  {
   "cell_type": "code",
   "execution_count": null,
   "metadata": {
    "cell_id": "bcefa941633a49419d159c0820fa775e",
    "colab": {
     "base_uri": "https://localhost:8080/"
    },
    "deepnote_cell_type": "code",
    "id": "0uuJYx0Nqe_f",
    "outputId": "c5884d82-9a48-41fc-e9ca-47ab771d9089"
   },
   "outputs": [
    {
     "name": "stdout",
     "output_type": "stream",
     "text": [
      "104\n"
     ]
    }
   ],
   "source": [
    "reconstructed_train, reconstructed_val, reconstructed_test = reconstruct_data_sequences(\n",
    "    [train_data, test_data, val_data], 64800\n",
    ")\n",
    "print(len(reconstructed_train))"
   ]
  },
  {
   "cell_type": "code",
   "execution_count": null,
   "metadata": {
    "cell_id": "3d317f956d8448068d3281af70f1e637",
    "colab": {
     "base_uri": "https://localhost:8080/"
    },
    "deepnote_cell_type": "code",
    "id": "Fo3XVbyZqng3",
    "outputId": "cf7f58e2-531c-4003-ba71-a9cd4250d875"
   },
   "outputs": [
    {
     "data": {
      "text/plain": [
       "True"
      ]
     },
     "metadata": {},
     "output_type": "display_data"
    }
   ],
   "source": [
    "check_reconstructed_sequences(reconstructed_train, 64800)"
   ]
  },
  {
   "cell_type": "markdown",
   "metadata": {
    "cell_id": "5fd30d9dc3b846aba1510d5600c79436",
    "deepnote_cell_type": "markdown",
    "id": "Vf9JPWamqyyq"
   },
   "source": [
    "### Define the BiLSTM with Attention Network"
   ]
  },
  {
   "cell_type": "code",
   "execution_count": null,
   "metadata": {
    "cell_id": "4082cefbe3ed46cc9ce418e489f52060",
    "deepnote_cell_type": "code",
    "id": "xdcj8cWuq1f2"
   },
   "outputs": [],
   "source": [
    "class BiLSTMAttentionNetwork(nn.Module):\n",
    "    def __init__(\n",
    "        self,\n",
    "        total_input_seq_len,\n",
    "        encoder_output_len,\n",
    "        seq_len,\n",
    "        LSTM_hidden_size,\n",
    "        n_layers,\n",
    "        output_size,\n",
    "        dropout=0.0,\n",
    "    ):\n",
    "        super(BiLSTMAttentionNetwork, self).__init__()\n",
    "        self.encoder = nn.Linear(total_input_seq_len, 1440, n_layers)\n",
    "        self.lstm = nn.LSTM(\n",
    "            encoder_output_len, LSTM_hidden_size, n_layers, bidirectional=True\n",
    "        )\n",
    "        self.dense_1 = nn.Linear(LSTM_hidden_size * 2, LSTM_hidden_size * 2)\n",
    "        self.dense_2 = nn.Linear(LSTM_hidden_size * 2, seq_len)\n",
    "        self.dense_3 = nn.Linear(seq_len, seq_len // 2)\n",
    "        self.dropout = nn.Dropout(p=dropout)\n",
    "        self.dense_4 = nn.Linear(seq_len // 2, output_size)\n",
    "\n",
    "    def forward(self, x):\n",
    "        # Encode the data sequence\n",
    "        encoded_input_sequence = self.encoder(torch.transpose(x, 0, 1))\n",
    "\n",
    "        # Flatten the encoded input sequence\n",
    "        # flattened_encoded_input = encoded_input_sequence.flatten()\n",
    "\n",
    "        # Batch the generated encoded input sequence\n",
    "        batched_seq = batch_data(encoded_input_sequence)\n",
    "\n",
    "        # Send through LSTM and concatenate hidden states\n",
    "        hidden_states, _ = self.lstm(batched_seq)\n",
    "        hidden_states_cat = hidden_states.mean(axis=0)\n",
    "\n",
    "        # Send through 1st dense layer\n",
    "        output_dense_1 = self.dense_1(hidden_states_cat)\n",
    "        attention_scores = F.softmax(output_dense_1, dim=0)\n",
    "\n",
    "        # Compute the context vector\n",
    "        context_vector = attention_scores * hidden_states_cat\n",
    "        context_vector = torch.tanh(context_vector)\n",
    "\n",
    "        # Compute prediction\n",
    "        output_dense_2 = self.dense_2(context_vector)\n",
    "        output_dense_2 = torch.tanh(output_dense_2)\n",
    "        output_dense_3 = self.dense_3(output_dense_2)\n",
    "        output_dense_3 = torch.tanh(output_dense_3)\n",
    "        output_dense_3 = self.dropout(output_dense_3)\n",
    "        output_dense_4 = self.dense_4(output_dense_3)\n",
    "\n",
    "        return output_dense_4"
   ]
  },
  {
   "cell_type": "markdown",
   "metadata": {
    "cell_id": "bcdcbca7487c4e128816640540a66461",
    "deepnote_cell_type": "markdown",
    "id": "YaW9_EZ9rA__"
   },
   "source": [
    "### Initialise the variables of the BiLSTM Attention Network"
   ]
  },
  {
   "cell_type": "code",
   "execution_count": null,
   "metadata": {
    "cell_id": "ec6d2c9c1ade4bb2ac4055386a8fea90",
    "colab": {
     "base_uri": "https://localhost:8080/"
    },
    "deepnote_cell_type": "code",
    "id": "b2lcjLzgrBo9",
    "outputId": "d40244e8-88ce-48e7-85ee-a8e8675e611a"
   },
   "outputs": [
    {
     "data": {
      "text/plain": [
       "BiLSTMAttentionNetwork(\n",
       "  (encoder): Linear(in_features=64800, out_features=1440, bias=True)\n",
       "  (lstm): LSTM(360, 150, bidirectional=True)\n",
       "  (dense_1): Linear(in_features=300, out_features=300, bias=True)\n",
       "  (dense_2): Linear(in_features=300, out_features=50, bias=True)\n",
       "  (dense_3): Linear(in_features=50, out_features=25, bias=True)\n",
       "  (dropout): Dropout(p=0.0, inplace=False)\n",
       "  (dense_4): Linear(in_features=25, out_features=4, bias=True)\n",
       ")"
      ]
     },
     "metadata": {},
     "output_type": "display_data"
    }
   ],
   "source": [
    "# Define model parameters\n",
    "LSTM_hidden_size = 150\n",
    "n_layers = 1\n",
    "dropout = 0.1\n",
    "seq_len = 50\n",
    "output_size = 4\n",
    "total_input_seq_len = longest_length\n",
    "encoder_output_len = 360\n",
    "\n",
    "# Initialize the model\n",
    "model = BiLSTMAttentionNetwork(\n",
    "    total_input_seq_len,\n",
    "    encoder_output_len,\n",
    "    seq_len,\n",
    "    LSTM_hidden_size,\n",
    "    n_layers,\n",
    "    output_size,\n",
    "    dropout=0.0,\n",
    ")\n",
    "model.to(device)"
   ]
  },
  {
   "cell_type": "markdown",
   "metadata": {
    "cell_id": "a753ee4de82f427bb5107cd5a725a6e2",
    "deepnote_cell_type": "markdown",
    "id": "FqfXgcRxrLRg"
   },
   "source": [
    "### Train the model"
   ]
  },
  {
   "cell_type": "code",
   "execution_count": null,
   "metadata": {
    "cell_id": "bd9ed733ed2344f5ac447bc6f7dc9800",
    "colab": {
     "base_uri": "https://localhost:8080/",
     "height": 1000
    },
    "deepnote_cell_type": "code",
    "id": "nIilmam1rXoH",
    "outputId": "efca6f90-d434-436e-a4ca-d6f54d1226eb"
   },
   "outputs": [
    {
     "name": "stderr",
     "output_type": "stream",
     "text": [
      "\r\n",
      "  0%|          | 0/10 [00:00<?, ?it/s]"
     ]
    },
    {
     "name": "stdout",
     "output_type": "stream",
     "text": [
      "Epoch: 1 loss: 0.05764\n",
      "actual class values:  [0, 0, 0, 1, 0, 1, 1, 1, 0, 1, 1, 3, 0, 1, 3, 0, 2, 1, 0, 2, 1, 1, 3, 1, 2, 1, 3, 1, 2, 3, 0, 1, 2, 1, 0, 2, 0, 2, 3, 1, 2, 1, 1, 1, 0, 1, 1, 2, 1, 3, 1, 1, 1, 1, 1, 1, 1, 1, 1, 1, 2, 1, 3, 0, 1, 0, 1, 0, 0, 1, 0, 1, 0, 0, 0, 1, 1, 1, 0, 2, 0, 1, 0, 0, 2, 3, 1, 1, 0, 0, 0, 0, 1, 2, 3, 1, 0, 0, 1, 0, 0, 0, 1, 3]\n",
      "predicted class values:  [1, 1, 1, 1, 1, 1, 1, 1, 1, 1, 1, 2, 1, 1, 1, 1, 1, 1, 1, 1, 1, 1, 3, 1, 1, 1, 1, 1, 1, 1, 1, 1, 1, 1, 1, 2, 1, 1, 1, 1, 1, 1, 1, 1, 1, 1, 1, 1, 1, 1, 1, 1, 1, 1, 1, 1, 1, 1, 1, 1, 1, 1, 1, 1, 1, 1, 1, 1, 1, 1, 1, 1, 1, 1, 1, 1, 1, 1, 1, 1, 1, 1, 1, 1, 3, 3, 1, 1, 1, 1, 1, 1, 1, 1, 1, 1, 1, 1, 1, 1, 1, 1, 1, 1]\n",
      "actual class values:  [1, 2, 0, 3, 3, 1, 2, 1, 1, 3, 2, 1, 1, 1, 2, 1, 1, 1, 1, 3, 2, 1, 0, 3, 1, 0, 1, 1, 1]\n"
     ]
    },
    {
     "name": "stderr",
     "output_type": "stream",
     "text": [
      "\r\n",
      " 10%|█         | 1/10 [00:10<01:37, 10.80s/it]"
     ]
    },
    {
     "name": "stdout",
     "output_type": "stream",
     "text": [
      "predicted class values:  [1, 1, 1, 1, 1, 1, 1, 1, 1, 1, 1, 1, 1, 1, 1, 1, 1, 1, 1, 1, 1, 1, 1, 1, 1, 1, 1, 1, 1]\n",
      "Epoch: 2 loss: 0.05123\n",
      "actual class values:  [0, 0, 0, 1, 0, 1, 1, 1, 0, 1, 1, 3, 0, 1, 3, 0, 2, 1, 0, 2, 1, 1, 3, 1, 2, 1, 3, 1, 2, 3, 0, 1, 2, 1, 0, 2, 0, 2, 3, 1, 2, 1, 1, 1, 0, 1, 1, 2, 1, 3, 1, 1, 1, 1, 1, 1, 1, 1, 1, 1, 2, 1, 3, 0, 1, 0, 1, 0, 0, 1, 0, 1, 0, 0, 0, 1, 1, 1, 0, 2, 0, 1, 0, 0, 2, 3, 1, 1, 0, 0, 0, 0, 1, 2, 3, 1, 0, 0, 1, 0, 0, 0, 1, 3]\n",
      "predicted class values:  [1, 1, 1, 1, 1, 1, 1, 1, 1, 1, 1, 3, 1, 1, 3, 1, 1, 1, 1, 3, 1, 1, 3, 1, 3, 1, 1, 1, 3, 3, 1, 1, 3, 1, 1, 3, 1, 3, 3, 1, 1, 1, 1, 1, 1, 1, 1, 3, 1, 3, 1, 1, 1, 1, 1, 1, 1, 1, 1, 1, 1, 1, 2, 1, 1, 1, 1, 1, 1, 1, 1, 1, 2, 1, 1, 1, 1, 1, 1, 3, 1, 1, 1, 1, 3, 3, 1, 1, 1, 1, 1, 1, 1, 2, 1, 1, 1, 1, 1, 1, 1, 1, 3, 3]\n",
      "actual class values:  [1, 2, 0, 3, 3, 1, 2, 1, 1, 3, 2, 1, 1, 1, 2, 1, 1, 1, 1, 3, 2, 1, 0, 3, 1, 0, 1, 1, 1]\n"
     ]
    },
    {
     "name": "stderr",
     "output_type": "stream",
     "text": [
      "\r\n",
      " 20%|██        | 2/10 [00:20<01:23, 10.38s/it]"
     ]
    },
    {
     "name": "stdout",
     "output_type": "stream",
     "text": [
      "predicted class values:  [2, 1, 1, 1, 1, 1, 1, 1, 1, 1, 1, 1, 1, 1, 1, 1, 3, 1, 1, 1, 1, 1, 1, 1, 1, 1, 1, 1, 1]\n",
      "Epoch: 3 loss: 0.05266\n",
      "actual class values:  [0, 0, 0, 1, 0, 1, 1, 1, 0, 1, 1, 3, 0, 1, 3, 0, 2, 1, 0, 2, 1, 1, 3, 1, 2, 1, 3, 1, 2, 3, 0, 1, 2, 1, 0, 2, 0, 2, 3, 1, 2, 1, 1, 1, 0, 1, 1, 2, 1, 3, 1, 1, 1, 1, 1, 1, 1, 1, 1, 1, 2, 1, 3, 0, 1, 0, 1, 0, 0, 1, 0, 1, 0, 0, 0, 1, 1, 1, 0, 2, 0, 1, 0, 0, 2, 3, 1, 1, 0, 0, 0, 0, 1, 2, 3, 1, 0, 0, 1, 0, 0, 0, 1, 3]\n",
      "predicted class values:  [1, 1, 1, 1, 1, 1, 1, 1, 1, 1, 1, 3, 3, 1, 2, 1, 3, 1, 1, 3, 1, 1, 1, 1, 3, 1, 1, 1, 3, 3, 1, 1, 1, 1, 1, 3, 1, 2, 3, 1, 1, 1, 1, 1, 1, 1, 1, 3, 1, 1, 1, 1, 1, 1, 1, 1, 1, 1, 1, 1, 1, 1, 2, 1, 1, 1, 1, 1, 1, 1, 1, 1, 1, 1, 1, 1, 1, 1, 1, 1, 1, 1, 1, 1, 3, 3, 1, 1, 1, 1, 1, 1, 1, 1, 1, 1, 1, 1, 1, 1, 1, 1, 1, 1]\n",
      "actual class values:  [1, 2, 0, 3, 3, 1, 2, 1, 1, 3, 2, 1, 1, 1, 2, 1, 1, 1, 1, 3, 2, 1, 0, 3, 1, 0, 1, 1, 1]\n"
     ]
    },
    {
     "name": "stderr",
     "output_type": "stream",
     "text": [
      "\r\n",
      " 30%|███       | 3/10 [00:30<01:11, 10.21s/it]"
     ]
    },
    {
     "name": "stdout",
     "output_type": "stream",
     "text": [
      "predicted class values:  [1, 1, 1, 1, 1, 1, 1, 1, 1, 1, 1, 3, 1, 1, 1, 2, 3, 1, 1, 1, 1, 1, 1, 1, 1, 1, 1, 1, 1]\n",
      "Epoch: 4 loss: 0.04681\n",
      "actual class values:  [0, 0, 0, 1, 0, 1, 1, 1, 0, 1, 1, 3, 0, 1, 3, 0, 2, 1, 0, 2, 1, 1, 3, 1, 2, 1, 3, 1, 2, 3, 0, 1, 2, 1, 0, 2, 0, 2, 3, 1, 2, 1, 1, 1, 0, 1, 1, 2, 1, 3, 1, 1, 1, 1, 1, 1, 1, 1, 1, 1, 2, 1, 3, 0, 1, 0, 1, 0, 0, 1, 0, 1, 0, 0, 0, 1, 1, 1, 0, 2, 0, 1, 0, 0, 2, 3, 1, 1, 0, 0, 0, 0, 1, 2, 3, 1, 0, 0, 1, 0, 0, 0, 1, 3]\n",
      "predicted class values:  [1, 1, 1, 1, 1, 1, 1, 1, 1, 1, 1, 3, 1, 1, 3, 1, 3, 1, 1, 3, 1, 1, 1, 1, 3, 1, 1, 1, 3, 3, 1, 1, 1, 1, 1, 3, 1, 3, 3, 1, 3, 1, 1, 1, 1, 1, 1, 3, 1, 3, 1, 1, 1, 1, 1, 1, 1, 1, 1, 1, 1, 1, 3, 1, 1, 1, 1, 1, 1, 1, 1, 1, 1, 1, 1, 1, 1, 1, 1, 1, 1, 1, 1, 1, 2, 3, 1, 1, 1, 1, 1, 1, 1, 3, 3, 1, 1, 1, 1, 1, 1, 1, 1, 3]\n",
      "actual class values:  [1, 2, 0, 3, 3, 1, 2, 1, 1, 3, 2, 1, 1, 1, 2, 1, 1, 1, 1, 3, 2, 1, 0, 3, 1, 0, 1, 1, 1]\n"
     ]
    },
    {
     "name": "stderr",
     "output_type": "stream",
     "text": [
      "\r\n",
      " 40%|████      | 4/10 [00:40<01:00, 10.14s/it]"
     ]
    },
    {
     "name": "stdout",
     "output_type": "stream",
     "text": [
      "predicted class values:  [1, 1, 1, 2, 1, 1, 1, 1, 1, 1, 1, 1, 1, 1, 1, 3, 3, 1, 1, 1, 1, 1, 1, 1, 1, 1, 1, 1, 1]\n",
      "Epoch: 5 loss: 0.04398\n",
      "actual class values:  [0, 0, 0, 1, 0, 1, 1, 1, 0, 1, 1, 3, 0, 1, 3, 0, 2, 1, 0, 2, 1, 1, 3, 1, 2, 1, 3, 1, 2, 3, 0, 1, 2, 1, 0, 2, 0, 2, 3, 1, 2, 1, 1, 1, 0, 1, 1, 2, 1, 3, 1, 1, 1, 1, 1, 1, 1, 1, 1, 1, 2, 1, 3, 0, 1, 0, 1, 0, 0, 1, 0, 1, 0, 0, 0, 1, 1, 1, 0, 2, 0, 1, 0, 0, 2, 3, 1, 1, 0, 0, 0, 0, 1, 2, 3, 1, 0, 0, 1, 0, 0, 0, 1, 3]\n",
      "predicted class values:  [1, 1, 1, 1, 1, 1, 1, 1, 1, 1, 1, 2, 1, 1, 2, 1, 1, 1, 1, 2, 1, 1, 1, 1, 2, 1, 2, 1, 2, 2, 1, 1, 2, 1, 1, 2, 1, 2, 2, 1, 1, 1, 1, 1, 1, 1, 1, 2, 1, 2, 1, 1, 1, 1, 1, 1, 1, 1, 1, 1, 2, 1, 2, 1, 1, 1, 1, 1, 1, 1, 1, 1, 1, 1, 1, 1, 1, 1, 1, 1, 1, 1, 1, 1, 2, 2, 1, 1, 1, 1, 1, 1, 1, 2, 2, 1, 1, 1, 1, 1, 1, 1, 1, 2]\n",
      "actual class values:  [1, 2, 0, 3, 3, 1, 2, 1, 1, 3, 2, 1, 1, 1, 2, 1, 1, 1, 1, 3, 2, 1, 0, 3, 1, 0, 1, 1, 1]\n"
     ]
    },
    {
     "name": "stderr",
     "output_type": "stream",
     "text": [
      "\r\n",
      " 50%|█████     | 5/10 [00:50<00:50, 10.08s/it]"
     ]
    },
    {
     "name": "stdout",
     "output_type": "stream",
     "text": [
      "predicted class values:  [1, 1, 1, 2, 1, 1, 1, 1, 2, 1, 1, 1, 1, 1, 1, 1, 2, 1, 1, 1, 1, 1, 1, 1, 1, 1, 1, 1, 1]\n",
      "Epoch: 6 loss: 0.04194\n",
      "actual class values:  [0, 0, 0, 1, 0, 1, 1, 1, 0, 1, 1, 3, 0, 1, 3, 0, 2, 1, 0, 2, 1, 1, 3, 1, 2, 1, 3, 1, 2, 3, 0, 1, 2, 1, 0, 2, 0, 2, 3, 1, 2, 1, 1, 1, 0, 1, 1, 2, 1, 3, 1, 1, 1, 1, 1, 1, 1, 1, 1, 1, 2, 1, 3, 0, 1, 0, 1, 0, 0, 1, 0, 1, 0, 0, 0, 1, 1, 1, 0, 2, 0, 1, 0, 0, 2, 3, 1, 1, 0, 0, 0, 0, 1, 2, 3, 1, 0, 0, 1, 0, 0, 0, 1, 3]\n",
      "predicted class values:  [1, 1, 1, 1, 1, 1, 1, 1, 1, 1, 1, 2, 1, 1, 2, 1, 2, 1, 1, 2, 1, 1, 1, 1, 2, 1, 1, 1, 2, 2, 1, 1, 2, 1, 1, 2, 1, 2, 2, 1, 1, 1, 1, 1, 1, 1, 1, 2, 1, 2, 1, 1, 1, 1, 1, 1, 1, 1, 1, 1, 2, 1, 2, 1, 1, 1, 1, 1, 1, 1, 1, 1, 1, 1, 1, 1, 1, 1, 1, 2, 1, 1, 1, 1, 2, 2, 1, 1, 1, 1, 1, 1, 1, 2, 2, 1, 1, 1, 1, 1, 1, 1, 1, 2]\n",
      "actual class values:  [1, 2, 0, 3, 3, 1, 2, 1, 1, 3, 2, 1, 1, 1, 2, 1, 1, 1, 1, 3, 2, 1, 0, 3, 1, 0, 1, 1, 1]\n"
     ]
    },
    {
     "name": "stderr",
     "output_type": "stream",
     "text": [
      "\r\n",
      " 60%|██████    | 6/10 [01:00<00:40, 10.03s/it]"
     ]
    },
    {
     "name": "stdout",
     "output_type": "stream",
     "text": [
      "predicted class values:  [2, 1, 1, 2, 1, 1, 1, 1, 1, 1, 1, 1, 1, 1, 1, 1, 2, 1, 1, 1, 1, 1, 1, 1, 1, 1, 1, 1, 1]\n",
      "Epoch: 7 loss: 0.03900\n",
      "actual class values:  [0, 0, 0, 1, 0, 1, 1, 1, 0, 1, 1, 3, 0, 1, 3, 0, 2, 1, 0, 2, 1, 1, 3, 1, 2, 1, 3, 1, 2, 3, 0, 1, 2, 1, 0, 2, 0, 2, 3, 1, 2, 1, 1, 1, 0, 1, 1, 2, 1, 3, 1, 1, 1, 1, 1, 1, 1, 1, 1, 1, 2, 1, 3, 0, 1, 0, 1, 0, 0, 1, 0, 1, 0, 0, 0, 1, 1, 1, 0, 2, 0, 1, 0, 0, 2, 3, 1, 1, 0, 0, 0, 0, 1, 2, 3, 1, 0, 0, 1, 0, 0, 0, 1, 3]\n",
      "predicted class values:  [1, 1, 1, 1, 1, 1, 1, 1, 1, 1, 1, 2, 1, 1, 2, 1, 1, 1, 1, 2, 1, 1, 1, 1, 2, 1, 1, 1, 2, 2, 1, 1, 1, 1, 1, 2, 1, 2, 2, 1, 1, 1, 1, 1, 1, 1, 1, 2, 1, 2, 1, 1, 1, 1, 1, 1, 1, 1, 1, 1, 2, 1, 2, 1, 1, 1, 1, 1, 1, 1, 1, 1, 1, 1, 1, 1, 1, 1, 1, 2, 1, 1, 1, 1, 2, 2, 1, 1, 1, 1, 1, 1, 1, 2, 2, 1, 1, 1, 1, 1, 1, 1, 1, 2]\n",
      "actual class values:  [1, 2, 0, 3, 3, 1, 2, 1, 1, 3, 2, 1, 1, 1, 2, 1, 1, 1, 1, 3, 2, 1, 0, 3, 1, 0, 1, 1, 1]\n"
     ]
    },
    {
     "name": "stderr",
     "output_type": "stream",
     "text": [
      "\r\n",
      " 70%|███████   | 7/10 [01:11<00:31, 10.37s/it]"
     ]
    },
    {
     "name": "stdout",
     "output_type": "stream",
     "text": [
      "predicted class values:  [2, 1, 1, 2, 1, 1, 0, 1, 1, 1, 1, 1, 1, 1, 1, 1, 2, 1, 0, 1, 1, 1, 1, 1, 1, 1, 1, 1, 1]\n",
      "Epoch: 8 loss: 0.03827\n",
      "actual class values:  [0, 0, 0, 1, 0, 1, 1, 1, 0, 1, 1, 3, 0, 1, 3, 0, 2, 1, 0, 2, 1, 1, 3, 1, 2, 1, 3, 1, 2, 3, 0, 1, 2, 1, 0, 2, 0, 2, 3, 1, 2, 1, 1, 1, 0, 1, 1, 2, 1, 3, 1, 1, 1, 1, 1, 1, 1, 1, 1, 1, 2, 1, 3, 0, 1, 0, 1, 0, 0, 1, 0, 1, 0, 0, 0, 1, 1, 1, 0, 2, 0, 1, 0, 0, 2, 3, 1, 1, 0, 0, 0, 0, 1, 2, 3, 1, 0, 0, 1, 0, 0, 0, 1, 3]\n",
      "predicted class values:  [1, 1, 1, 1, 1, 1, 1, 1, 1, 1, 1, 2, 1, 1, 2, 1, 2, 1, 1, 2, 1, 1, 1, 1, 2, 1, 2, 1, 2, 2, 1, 1, 1, 1, 1, 2, 1, 2, 2, 1, 2, 1, 1, 1, 1, 1, 1, 2, 1, 2, 1, 1, 1, 1, 1, 1, 1, 1, 1, 1, 2, 1, 2, 1, 1, 1, 1, 1, 1, 1, 1, 1, 1, 1, 1, 1, 1, 1, 1, 2, 1, 1, 1, 1, 2, 2, 1, 1, 1, 1, 1, 1, 1, 2, 2, 1, 1, 1, 1, 1, 1, 1, 1, 2]\n",
      "actual class values:  [1, 2, 0, 3, 3, 1, 2, 1, 1, 3, 2, 1, 1, 1, 2, 1, 1, 1, 1, 3, 2, 1, 0, 3, 1, 0, 1, 1, 1]\n"
     ]
    },
    {
     "name": "stderr",
     "output_type": "stream",
     "text": [
      "\r\n",
      " 80%|████████  | 8/10 [01:22<00:20, 10.29s/it]"
     ]
    },
    {
     "name": "stdout",
     "output_type": "stream",
     "text": [
      "predicted class values:  [2, 1, 1, 2, 1, 1, 1, 1, 1, 1, 1, 1, 1, 1, 1, 1, 2, 1, 0, 1, 1, 1, 1, 1, 1, 1, 1, 1, 0]\n",
      "Epoch: 9 loss: 0.03881\n",
      "actual class values:  [0, 0, 0, 1, 0, 1, 1, 1, 0, 1, 1, 3, 0, 1, 3, 0, 2, 1, 0, 2, 1, 1, 3, 1, 2, 1, 3, 1, 2, 3, 0, 1, 2, 1, 0, 2, 0, 2, 3, 1, 2, 1, 1, 1, 0, 1, 1, 2, 1, 3, 1, 1, 1, 1, 1, 1, 1, 1, 1, 1, 2, 1, 3, 0, 1, 0, 1, 0, 0, 1, 0, 1, 0, 0, 0, 1, 1, 1, 0, 2, 0, 1, 0, 0, 2, 3, 1, 1, 0, 0, 0, 0, 1, 2, 3, 1, 0, 0, 1, 0, 0, 0, 1, 3]\n",
      "predicted class values:  [1, 1, 1, 1, 1, 1, 1, 1, 1, 1, 1, 2, 1, 1, 2, 1, 2, 1, 1, 2, 1, 1, 2, 1, 2, 1, 0, 1, 2, 2, 1, 1, 0, 1, 1, 2, 1, 2, 2, 1, 2, 1, 1, 1, 1, 1, 1, 2, 1, 2, 1, 1, 1, 1, 1, 1, 1, 1, 1, 1, 2, 1, 2, 1, 1, 1, 1, 1, 1, 1, 1, 1, 1, 1, 1, 1, 1, 1, 1, 2, 1, 1, 1, 1, 2, 2, 1, 1, 1, 1, 1, 1, 1, 2, 2, 1, 1, 1, 1, 1, 1, 1, 1, 2]\n",
      "actual class values:  [1, 2, 0, 3, 3, 1, 2, 1, 1, 3, 2, 1, 1, 1, 2, 1, 1, 1, 1, 3, 2, 1, 0, 3, 1, 0, 1, 1, 1]\n"
     ]
    },
    {
     "name": "stderr",
     "output_type": "stream",
     "text": [
      "\r\n",
      " 90%|█████████ | 9/10 [01:32<00:10, 10.22s/it]"
     ]
    },
    {
     "name": "stdout",
     "output_type": "stream",
     "text": [
      "predicted class values:  [2, 1, 1, 2, 1, 1, 0, 1, 0, 1, 1, 1, 1, 1, 1, 1, 2, 1, 2, 1, 1, 1, 0, 0, 1, 1, 1, 1, 0]\n",
      "Epoch: 10 loss: 0.03710\n",
      "actual class values:  [0, 0, 0, 1, 0, 1, 1, 1, 0, 1, 1, 3, 0, 1, 3, 0, 2, 1, 0, 2, 1, 1, 3, 1, 2, 1, 3, 1, 2, 3, 0, 1, 2, 1, 0, 2, 0, 2, 3, 1, 2, 1, 1, 1, 0, 1, 1, 2, 1, 3, 1, 1, 1, 1, 1, 1, 1, 1, 1, 1, 2, 1, 3, 0, 1, 0, 1, 0, 0, 1, 0, 1, 0, 0, 0, 1, 1, 1, 0, 2, 0, 1, 0, 0, 2, 3, 1, 1, 0, 0, 0, 0, 1, 2, 3, 1, 0, 0, 1, 0, 0, 0, 1, 3]\n",
      "predicted class values:  [1, 1, 1, 1, 1, 1, 1, 1, 1, 1, 1, 2, 1, 1, 2, 1, 2, 1, 1, 2, 1, 1, 0, 1, 2, 1, 0, 1, 2, 2, 1, 1, 0, 1, 1, 2, 1, 2, 2, 1, 0, 1, 1, 1, 1, 1, 1, 2, 1, 2, 1, 1, 1, 1, 1, 1, 1, 1, 1, 1, 2, 1, 2, 1, 1, 1, 1, 1, 1, 1, 1, 1, 0, 1, 1, 1, 1, 1, 1, 2, 1, 1, 1, 1, 2, 2, 1, 1, 1, 1, 1, 1, 1, 2, 2, 1, 1, 1, 1, 1, 0, 1, 1, 2]\n",
      "actual class values:  [1, 2, 0, 3, 3, 1, 2, 1, 1, 3, 2, 1, 1, 1, 2, 1, 1, 1, 1, 3, 2, 1, 0, 3, 1, 0, 1, 1, 1]\n"
     ]
    },
    {
     "name": "stderr",
     "output_type": "stream",
     "text": [
      "100%|██████████| 10/10 [01:42<00:00, 10.23s/it]"
     ]
    },
    {
     "name": "stdout",
     "output_type": "stream",
     "text": [
      "predicted class values:  [2, 1, 1, 2, 1, 1, 0, 1, 0, 1, 1, 1, 1, 1, 1, 1, 2, 1, 0, 1, 1, 1, 0, 1, 1, 1, 1, 1, 0]\n"
     ]
    },
    {
     "name": "stderr",
     "output_type": "stream",
     "text": [
      "\n"
     ]
    },
    {
     "data": {
      "image/png": "[encoded data removed]",
      "text/plain": [
       "<Figure size 1152x648 with 1 Axes>"
      ]
     },
     "metadata": {},
     "output_type": "display_data"
    }
   ],
   "source": [
    "# Set learning parameters\n",
    "learning_rate = 0.001\n",
    "epochs = 10\n",
    "\n",
    "# Reconstruct motor activity sequences\n",
    "reconstructed_train, reconstructed_val, reconstructed_test = reconstruct_data_sequences(\n",
    "    [train_data, test_data, val_data], 48960\n",
    ")\n",
    "\n",
    "# Train the model\n",
    "model, train_f1s, val_f1s = train(\n",
    "    model,\n",
    "    reconstructed_train,\n",
    "    reconstructed_val,\n",
    "    learning_rate=learning_rate,\n",
    "    epochs=epochs,\n",
    "    device=device,\n",
    ")\n",
    "\n",
    "# Plot training progress\n",
    "plot_training_progress(train_f1s, val_f1s)"
   ]
  },
  {
   "cell_type": "markdown",
   "metadata": {
    "cell_id": "7215f4a679734076b92cdad01ace4235",
    "deepnote_cell_type": "text-cell-p",
    "formattedRanges": [
     {
      "fromCodePoint": 0,
      "marks": {
       "bold": true,
       "underline": true
      },
      "toCodePoint": 4,
      "type": "marks"
     }
    ],
    "is_collapsed": false,
    "tags": []
   },
   "source": [
    "## BiLSTM with attention implementation for batched 24 hour sequences\n",
    "This part of the notebook contains the BiLSTM with attention implementation for the complete sequence split data. In this implementation, each sequence is fed into a Linear Layer to encode it into a 1440 length sequence which is then passed through the BiLSTM layer to obtain the hidden vectors which are used in the remainder of the network."
   ]
  },
  {
   "cell_type": "markdown",
   "metadata": {
    "cell_id": "a7b9f026b1464cd98ff525287380b69b",
    "deepnote_cell_type": "markdown",
    "id": "L-GF7GU2p6le"
   },
   "source": [
    "### Load the data"
   ]
  },
  {
   "cell_type": "code",
   "execution_count": null,
   "metadata": {
    "cell_id": "be91c07eb8d846fbb0a477228ced56f2",
    "colab": {
     "base_uri": "https://localhost:8080/"
    },
    "deepnote_cell_type": "code",
    "id": "G_6_x2vap7MR",
    "outputId": "be985517-90f1-411d-893d-87ad211d4987"
   },
   "outputs": [
    {
     "name": "stdout",
     "output_type": "stream",
     "text": [
      "\u001b[?25l\r\n",
      "\u001b[K     |█████▋                          | 10 kB 23.4 MB/s eta 0:00:01\r\n",
      "\u001b[K     |███████████▎                    | 20 kB 25.5 MB/s eta 0:00:01\r\n",
      "\u001b[K     |████████████████▉               | 30 kB 9.7 MB/s eta 0:00:01\r\n",
      "\u001b[K     |██████████████████████▌         | 40 kB 4.5 MB/s eta 0:00:01\r\n",
      "\u001b[K     |████████████████████████████    | 51 kB 5.1 MB/s eta 0:00:01\r\n",
      "\u001b[K     |████████████████████████████████| 58 kB 2.7 MB/s \n",
      "\u001b[?25h"
     ]
    },
    {
     "name": "stderr",
     "output_type": "stream",
     "text": [
      "2023-01-02 13:33:18.586 | INFO     | load_data:load_depresjon:36 - Loading depresjon\n",
      "2023-01-02 13:33:21.945 | INFO     | load_data:load_psykose:54 - Loading psykose\n",
      "2023-01-02 13:33:24.091 | INFO     | load_data:load_hyperaktiv:72 - Loading hyperaktiv\n",
      "2023-01-02 13:34:42.864 | INFO     | load_data:convert_to_torch:222 - Converting to torch\n",
      "2023-01-02 13:34:42.866 | INFO     | load_data:convert_to_torch:225 - Filtering out problematic dates\n",
      "2023-01-02 13:35:05.983 | INFO     | load_data:train_val_test_split:188 - Split dataset into\n",
      "   Training set:\n",
      "      59.49% of total sequences\n",
      "      Subjects: ADHD: 36, ADHD_Control: 36, DEPR_Control: 27, SZ: 16, DEPR: 18\n",
      "   Validation set:\n",
      "      20.20% of total sequences\n",
      "      Subjects: ADHD: 9, ADHD_Control: 4, DEPR_Control: 5, DEPR: 5, SZ: 6\n",
      "   Test set:\n",
      "      20.31% of total sequences\n",
      "      Subjects: DEPR_Control: 7, ADHD: 7, ADHD_Control: 6, SZ: 5, DEPR: 4\n",
      "\n"
     ]
    }
   ],
   "source": [
    "df = load_joint_dataset()\n",
    "device = torch.device(\"cuda:0\" if torch.cuda.is_available() else \"cpu\")\n",
    "data = convert_to_torch(\n",
    "    df,\n",
    "    slice_seq=False,\n",
    "    preprocessing=\"False\",\n",
    "    k=10,\n",
    "    train_perc=0.60,\n",
    "    val_perc=0.20,\n",
    "    random_seed=42,\n",
    "    device=device,\n",
    ")\n",
    "\n",
    "train_data, val_data, test_data = data"
   ]
  },
  {
   "cell_type": "markdown",
   "metadata": {
    "cell_id": "7ef1c8544025488ebcee50e650f33ece",
    "deepnote_cell_type": "markdown",
    "id": "ndvso8V6qO36"
   },
   "source": [
    "### Balance the train dataset"
   ]
  },
  {
   "cell_type": "code",
   "execution_count": null,
   "metadata": {
    "cell_id": "d57dba0fc775466b8820f89a5fc61bcc",
    "deepnote_cell_type": "code",
    "id": "ZnM0u6uaqNfH"
   },
   "outputs": [],
   "source": [
    "balanced_train_data = balance_train(train_data)"
   ]
  },
  {
   "cell_type": "markdown",
   "metadata": {
    "cell_id": "75f8b71c6686420d955550654602b32a",
    "deepnote_cell_type": "markdown",
    "id": "5o6IwJL5qTnF"
   },
   "source": [
    "### Ascertaining the number of data points in the longest present sequence"
   ]
  },
  {
   "cell_type": "code",
   "execution_count": null,
   "metadata": {
    "cell_id": "f112c6d5bbb04ce7a5528e0fd07f9b28",
    "colab": {
     "base_uri": "https://localhost:8080/"
    },
    "deepnote_cell_type": "code",
    "id": "QzjKZJJNqXTy",
    "outputId": "b2587763-6cbb-4db7-ec57-08e51d370cbc"
   },
   "outputs": [
    {
     "data": {
      "text/plain": [
       "64800"
      ]
     },
     "metadata": {},
     "output_type": "display_data"
    }
   ],
   "source": [
    "longest_length = find_longest_sequence([train_data, test_data, val_data])\n",
    "longest_length"
   ]
  },
  {
   "cell_type": "markdown",
   "metadata": {
    "cell_id": "43d11f0214914c3aa8080fdb02413a0b",
    "deepnote_cell_type": "markdown",
    "id": "PnN5WLqrqbks"
   },
   "source": [
    "### Reconstruct the data sequences to ensure that they all have the same length"
   ]
  },
  {
   "cell_type": "code",
   "execution_count": null,
   "metadata": {
    "cell_id": "bcefa941633a49419d159c0820fa775e",
    "colab": {
     "base_uri": "https://localhost:8080/"
    },
    "deepnote_cell_type": "code",
    "id": "0uuJYx0Nqe_f",
    "outputId": "c5884d82-9a48-41fc-e9ca-47ab771d9089"
   },
   "outputs": [
    {
     "name": "stdout",
     "output_type": "stream",
     "text": [
      "104\n"
     ]
    }
   ],
   "source": [
    "reconstructed_train, reconstructed_val, reconstructed_test = reconstruct_data_sequences(\n",
    "    [train_data, test_data, val_data], 64800\n",
    ")\n",
    "print(len(reconstructed_train))"
   ]
  },
  {
   "cell_type": "code",
   "execution_count": null,
   "metadata": {
    "cell_id": "3d317f956d8448068d3281af70f1e637",
    "colab": {
     "base_uri": "https://localhost:8080/"
    },
    "deepnote_cell_type": "code",
    "id": "Fo3XVbyZqng3",
    "outputId": "cf7f58e2-531c-4003-ba71-a9cd4250d875"
   },
   "outputs": [
    {
     "data": {
      "text/plain": [
       "True"
      ]
     },
     "metadata": {},
     "output_type": "display_data"
    }
   ],
   "source": [
    "check_reconstructed_sequences(reconstructed_train, 64800)"
   ]
  },
  {
   "cell_type": "markdown",
   "metadata": {
    "cell_id": "5fd30d9dc3b846aba1510d5600c79436",
    "deepnote_cell_type": "markdown",
    "id": "Vf9JPWamqyyq"
   },
   "source": [
    "### Initialising the BiLSTM with Attention Network"
   ]
  },
  {
   "cell_type": "code",
   "execution_count": null,
   "metadata": {
    "cell_id": "4082cefbe3ed46cc9ce418e489f52060",
    "deepnote_cell_type": "code",
    "id": "xdcj8cWuq1f2"
   },
   "outputs": [],
   "source": [
    "class BiLSTMAttentionNetwork(nn.Module):\n",
    "    def __init__(\n",
    "        self,\n",
    "        total_input_seq_len,\n",
    "        encoder_output_len,\n",
    "        seq_len,\n",
    "        LSTM_hidden_size,\n",
    "        n_layers,\n",
    "        output_size,\n",
    "        dropout=0.0,\n",
    "    ):\n",
    "        super(BiLSTMAttentionNetwork, self).__init__()\n",
    "        self.encoder = nn.Linear(total_input_seq_len, 1440, n_layers)\n",
    "        self.lstm = nn.LSTM(\n",
    "            encoder_output_len, LSTM_hidden_size, n_layers, bidirectional=True\n",
    "        )\n",
    "        self.dense_1 = nn.Linear(LSTM_hidden_size * 2, LSTM_hidden_size * 2)\n",
    "        self.dense_2 = nn.Linear(LSTM_hidden_size * 2, seq_len)\n",
    "        self.dense_3 = nn.Linear(seq_len, seq_len // 2)\n",
    "        self.dropout = nn.Dropout(p=dropout)\n",
    "        self.dense_4 = nn.Linear(seq_len // 2, output_size)\n",
    "\n",
    "    def forward(self, x):\n",
    "        # Encode the data sequence\n",
    "        encoded_input_sequence = self.encoder(torch.transpose(x, 0, 1))\n",
    "\n",
    "        # Batch the generated encoded input sequence\n",
    "        batched_seq = batch_data(encoded_input_sequence)\n",
    "\n",
    "        # Send through LSTM and concatenate hidden states\n",
    "        hidden_states, _ = self.lstm(batched_seq)\n",
    "        hidden_states_cat = hidden_states.mean(axis=0)\n",
    "\n",
    "        # Send through 1st dense layer\n",
    "        output_dense_1 = self.dense_1(hidden_states_cat)\n",
    "        attention_scores = F.softmax(output_dense_1, dim=0)\n",
    "\n",
    "        # Compute the context vector\n",
    "        context_vector = attention_scores * hidden_states_cat\n",
    "        context_vector = torch.tanh(context_vector)\n",
    "\n",
    "        # Compute prediction\n",
    "        output_dense_2 = self.dense_2(context_vector)\n",
    "        output_dense_2 = torch.tanh(output_dense_2)\n",
    "        output_dense_3 = self.dense_3(output_dense_2)\n",
    "        output_dense_3 = torch.tanh(output_dense_3)\n",
    "        output_dense_3 = self.dropout(output_dense_3)\n",
    "        output_dense_4 = self.dense_4(output_dense_3)\n",
    "\n",
    "        return output_dense_4"
   ]
  },
  {
   "cell_type": "markdown",
   "metadata": {
    "cell_id": "bcdcbca7487c4e128816640540a66461",
    "deepnote_cell_type": "markdown",
    "id": "YaW9_EZ9rA__"
   },
   "source": [
    "### Define the variables of the BiLSTM Attention Network"
   ]
  },
  {
   "cell_type": "code",
   "execution_count": null,
   "metadata": {
    "cell_id": "ec6d2c9c1ade4bb2ac4055386a8fea90",
    "colab": {
     "base_uri": "https://localhost:8080/"
    },
    "deepnote_cell_type": "code",
    "id": "b2lcjLzgrBo9",
    "outputId": "d40244e8-88ce-48e7-85ee-a8e8675e611a"
   },
   "outputs": [
    {
     "data": {
      "text/plain": [
       "BiLSTMAttentionNetwork(\n",
       "  (encoder): Linear(in_features=64800, out_features=1440, bias=True)\n",
       "  (lstm): LSTM(360, 150, bidirectional=True)\n",
       "  (dense_1): Linear(in_features=300, out_features=300, bias=True)\n",
       "  (dense_2): Linear(in_features=300, out_features=50, bias=True)\n",
       "  (dense_3): Linear(in_features=50, out_features=25, bias=True)\n",
       "  (dropout): Dropout(p=0.0, inplace=False)\n",
       "  (dense_4): Linear(in_features=25, out_features=4, bias=True)\n",
       ")"
      ]
     },
     "metadata": {},
     "output_type": "display_data"
    }
   ],
   "source": [
    "LSTM_hidden_size = 150\n",
    "n_layers = 1\n",
    "dropout = 0.1\n",
    "seq_len = 50\n",
    "output_size = 4\n",
    "total_input_seq_len = longest_length\n",
    "encoder_output_len = 360\n",
    "\n",
    "\n",
    "# initializing the depression model\n",
    "model = BiLSTMAttentionNetwork(\n",
    "    total_input_seq_len,\n",
    "    encoder_output_len,\n",
    "    seq_len,\n",
    "    LSTM_hidden_size,\n",
    "    n_layers,\n",
    "    output_size,\n",
    "    dropout=0.0,\n",
    ")\n",
    "model.to(device)"
   ]
  },
  {
   "cell_type": "markdown",
   "metadata": {
    "cell_id": "a753ee4de82f427bb5107cd5a725a6e2",
    "deepnote_cell_type": "markdown",
    "id": "FqfXgcRxrLRg"
   },
   "source": [
    "### Train the model"
   ]
  },
  {
   "cell_type": "code",
   "execution_count": null,
   "metadata": {
    "cell_id": "bd9ed733ed2344f5ac447bc6f7dc9800",
    "colab": {
     "base_uri": "https://localhost:8080/",
     "height": 1000
    },
    "deepnote_cell_type": "code",
    "id": "nIilmam1rXoH",
    "outputId": "efca6f90-d434-436e-a4ca-d6f54d1226eb"
   },
   "outputs": [
    {
     "name": "stderr",
     "output_type": "stream",
     "text": [
      "\r\n",
      "  0%|          | 0/10 [00:00<?, ?it/s]"
     ]
    },
    {
     "name": "stdout",
     "output_type": "stream",
     "text": [
      "Epoch: 1 loss: 0.05764\n",
      "actual class values:  [0, 0, 0, 1, 0, 1, 1, 1, 0, 1, 1, 3, 0, 1, 3, 0, 2, 1, 0, 2, 1, 1, 3, 1, 2, 1, 3, 1, 2, 3, 0, 1, 2, 1, 0, 2, 0, 2, 3, 1, 2, 1, 1, 1, 0, 1, 1, 2, 1, 3, 1, 1, 1, 1, 1, 1, 1, 1, 1, 1, 2, 1, 3, 0, 1, 0, 1, 0, 0, 1, 0, 1, 0, 0, 0, 1, 1, 1, 0, 2, 0, 1, 0, 0, 2, 3, 1, 1, 0, 0, 0, 0, 1, 2, 3, 1, 0, 0, 1, 0, 0, 0, 1, 3]\n",
      "predicted class values:  [1, 1, 1, 1, 1, 1, 1, 1, 1, 1, 1, 2, 1, 1, 1, 1, 1, 1, 1, 1, 1, 1, 3, 1, 1, 1, 1, 1, 1, 1, 1, 1, 1, 1, 1, 2, 1, 1, 1, 1, 1, 1, 1, 1, 1, 1, 1, 1, 1, 1, 1, 1, 1, 1, 1, 1, 1, 1, 1, 1, 1, 1, 1, 1, 1, 1, 1, 1, 1, 1, 1, 1, 1, 1, 1, 1, 1, 1, 1, 1, 1, 1, 1, 1, 3, 3, 1, 1, 1, 1, 1, 1, 1, 1, 1, 1, 1, 1, 1, 1, 1, 1, 1, 1]\n",
      "actual class values:  [1, 2, 0, 3, 3, 1, 2, 1, 1, 3, 2, 1, 1, 1, 2, 1, 1, 1, 1, 3, 2, 1, 0, 3, 1, 0, 1, 1, 1]\n"
     ]
    },
    {
     "name": "stderr",
     "output_type": "stream",
     "text": [
      "\r\n",
      " 10%|█         | 1/10 [00:10<01:37, 10.80s/it]"
     ]
    },
    {
     "name": "stdout",
     "output_type": "stream",
     "text": [
      "predicted class values:  [1, 1, 1, 1, 1, 1, 1, 1, 1, 1, 1, 1, 1, 1, 1, 1, 1, 1, 1, 1, 1, 1, 1, 1, 1, 1, 1, 1, 1]\n",
      "Epoch: 2 loss: 0.05123\n",
      "actual class values:  [0, 0, 0, 1, 0, 1, 1, 1, 0, 1, 1, 3, 0, 1, 3, 0, 2, 1, 0, 2, 1, 1, 3, 1, 2, 1, 3, 1, 2, 3, 0, 1, 2, 1, 0, 2, 0, 2, 3, 1, 2, 1, 1, 1, 0, 1, 1, 2, 1, 3, 1, 1, 1, 1, 1, 1, 1, 1, 1, 1, 2, 1, 3, 0, 1, 0, 1, 0, 0, 1, 0, 1, 0, 0, 0, 1, 1, 1, 0, 2, 0, 1, 0, 0, 2, 3, 1, 1, 0, 0, 0, 0, 1, 2, 3, 1, 0, 0, 1, 0, 0, 0, 1, 3]\n",
      "predicted class values:  [1, 1, 1, 1, 1, 1, 1, 1, 1, 1, 1, 3, 1, 1, 3, 1, 1, 1, 1, 3, 1, 1, 3, 1, 3, 1, 1, 1, 3, 3, 1, 1, 3, 1, 1, 3, 1, 3, 3, 1, 1, 1, 1, 1, 1, 1, 1, 3, 1, 3, 1, 1, 1, 1, 1, 1, 1, 1, 1, 1, 1, 1, 2, 1, 1, 1, 1, 1, 1, 1, 1, 1, 2, 1, 1, 1, 1, 1, 1, 3, 1, 1, 1, 1, 3, 3, 1, 1, 1, 1, 1, 1, 1, 2, 1, 1, 1, 1, 1, 1, 1, 1, 3, 3]\n",
      "actual class values:  [1, 2, 0, 3, 3, 1, 2, 1, 1, 3, 2, 1, 1, 1, 2, 1, 1, 1, 1, 3, 2, 1, 0, 3, 1, 0, 1, 1, 1]\n"
     ]
    },
    {
     "name": "stderr",
     "output_type": "stream",
     "text": [
      "\r\n",
      " 20%|██        | 2/10 [00:20<01:23, 10.38s/it]"
     ]
    },
    {
     "name": "stdout",
     "output_type": "stream",
     "text": [
      "predicted class values:  [2, 1, 1, 1, 1, 1, 1, 1, 1, 1, 1, 1, 1, 1, 1, 1, 3, 1, 1, 1, 1, 1, 1, 1, 1, 1, 1, 1, 1]\n",
      "Epoch: 3 loss: 0.05266\n",
      "actual class values:  [0, 0, 0, 1, 0, 1, 1, 1, 0, 1, 1, 3, 0, 1, 3, 0, 2, 1, 0, 2, 1, 1, 3, 1, 2, 1, 3, 1, 2, 3, 0, 1, 2, 1, 0, 2, 0, 2, 3, 1, 2, 1, 1, 1, 0, 1, 1, 2, 1, 3, 1, 1, 1, 1, 1, 1, 1, 1, 1, 1, 2, 1, 3, 0, 1, 0, 1, 0, 0, 1, 0, 1, 0, 0, 0, 1, 1, 1, 0, 2, 0, 1, 0, 0, 2, 3, 1, 1, 0, 0, 0, 0, 1, 2, 3, 1, 0, 0, 1, 0, 0, 0, 1, 3]\n",
      "predicted class values:  [1, 1, 1, 1, 1, 1, 1, 1, 1, 1, 1, 3, 3, 1, 2, 1, 3, 1, 1, 3, 1, 1, 1, 1, 3, 1, 1, 1, 3, 3, 1, 1, 1, 1, 1, 3, 1, 2, 3, 1, 1, 1, 1, 1, 1, 1, 1, 3, 1, 1, 1, 1, 1, 1, 1, 1, 1, 1, 1, 1, 1, 1, 2, 1, 1, 1, 1, 1, 1, 1, 1, 1, 1, 1, 1, 1, 1, 1, 1, 1, 1, 1, 1, 1, 3, 3, 1, 1, 1, 1, 1, 1, 1, 1, 1, 1, 1, 1, 1, 1, 1, 1, 1, 1]\n",
      "actual class values:  [1, 2, 0, 3, 3, 1, 2, 1, 1, 3, 2, 1, 1, 1, 2, 1, 1, 1, 1, 3, 2, 1, 0, 3, 1, 0, 1, 1, 1]\n"
     ]
    },
    {
     "name": "stderr",
     "output_type": "stream",
     "text": [
      "\r\n",
      " 30%|███       | 3/10 [00:30<01:11, 10.21s/it]"
     ]
    },
    {
     "name": "stdout",
     "output_type": "stream",
     "text": [
      "predicted class values:  [1, 1, 1, 1, 1, 1, 1, 1, 1, 1, 1, 3, 1, 1, 1, 2, 3, 1, 1, 1, 1, 1, 1, 1, 1, 1, 1, 1, 1]\n",
      "Epoch: 4 loss: 0.04681\n",
      "actual class values:  [0, 0, 0, 1, 0, 1, 1, 1, 0, 1, 1, 3, 0, 1, 3, 0, 2, 1, 0, 2, 1, 1, 3, 1, 2, 1, 3, 1, 2, 3, 0, 1, 2, 1, 0, 2, 0, 2, 3, 1, 2, 1, 1, 1, 0, 1, 1, 2, 1, 3, 1, 1, 1, 1, 1, 1, 1, 1, 1, 1, 2, 1, 3, 0, 1, 0, 1, 0, 0, 1, 0, 1, 0, 0, 0, 1, 1, 1, 0, 2, 0, 1, 0, 0, 2, 3, 1, 1, 0, 0, 0, 0, 1, 2, 3, 1, 0, 0, 1, 0, 0, 0, 1, 3]\n",
      "predicted class values:  [1, 1, 1, 1, 1, 1, 1, 1, 1, 1, 1, 3, 1, 1, 3, 1, 3, 1, 1, 3, 1, 1, 1, 1, 3, 1, 1, 1, 3, 3, 1, 1, 1, 1, 1, 3, 1, 3, 3, 1, 3, 1, 1, 1, 1, 1, 1, 3, 1, 3, 1, 1, 1, 1, 1, 1, 1, 1, 1, 1, 1, 1, 3, 1, 1, 1, 1, 1, 1, 1, 1, 1, 1, 1, 1, 1, 1, 1, 1, 1, 1, 1, 1, 1, 2, 3, 1, 1, 1, 1, 1, 1, 1, 3, 3, 1, 1, 1, 1, 1, 1, 1, 1, 3]\n",
      "actual class values:  [1, 2, 0, 3, 3, 1, 2, 1, 1, 3, 2, 1, 1, 1, 2, 1, 1, 1, 1, 3, 2, 1, 0, 3, 1, 0, 1, 1, 1]\n"
     ]
    },
    {
     "name": "stderr",
     "output_type": "stream",
     "text": [
      "\r\n",
      " 40%|████      | 4/10 [00:40<01:00, 10.14s/it]"
     ]
    },
    {
     "name": "stdout",
     "output_type": "stream",
     "text": [
      "predicted class values:  [1, 1, 1, 2, 1, 1, 1, 1, 1, 1, 1, 1, 1, 1, 1, 3, 3, 1, 1, 1, 1, 1, 1, 1, 1, 1, 1, 1, 1]\n",
      "Epoch: 5 loss: 0.04398\n",
      "actual class values:  [0, 0, 0, 1, 0, 1, 1, 1, 0, 1, 1, 3, 0, 1, 3, 0, 2, 1, 0, 2, 1, 1, 3, 1, 2, 1, 3, 1, 2, 3, 0, 1, 2, 1, 0, 2, 0, 2, 3, 1, 2, 1, 1, 1, 0, 1, 1, 2, 1, 3, 1, 1, 1, 1, 1, 1, 1, 1, 1, 1, 2, 1, 3, 0, 1, 0, 1, 0, 0, 1, 0, 1, 0, 0, 0, 1, 1, 1, 0, 2, 0, 1, 0, 0, 2, 3, 1, 1, 0, 0, 0, 0, 1, 2, 3, 1, 0, 0, 1, 0, 0, 0, 1, 3]\n",
      "predicted class values:  [1, 1, 1, 1, 1, 1, 1, 1, 1, 1, 1, 2, 1, 1, 2, 1, 1, 1, 1, 2, 1, 1, 1, 1, 2, 1, 2, 1, 2, 2, 1, 1, 2, 1, 1, 2, 1, 2, 2, 1, 1, 1, 1, 1, 1, 1, 1, 2, 1, 2, 1, 1, 1, 1, 1, 1, 1, 1, 1, 1, 2, 1, 2, 1, 1, 1, 1, 1, 1, 1, 1, 1, 1, 1, 1, 1, 1, 1, 1, 1, 1, 1, 1, 1, 2, 2, 1, 1, 1, 1, 1, 1, 1, 2, 2, 1, 1, 1, 1, 1, 1, 1, 1, 2]\n",
      "actual class values:  [1, 2, 0, 3, 3, 1, 2, 1, 1, 3, 2, 1, 1, 1, 2, 1, 1, 1, 1, 3, 2, 1, 0, 3, 1, 0, 1, 1, 1]\n"
     ]
    },
    {
     "name": "stderr",
     "output_type": "stream",
     "text": [
      "\r\n",
      " 50%|█████     | 5/10 [00:50<00:50, 10.08s/it]"
     ]
    },
    {
     "name": "stdout",
     "output_type": "stream",
     "text": [
      "predicted class values:  [1, 1, 1, 2, 1, 1, 1, 1, 2, 1, 1, 1, 1, 1, 1, 1, 2, 1, 1, 1, 1, 1, 1, 1, 1, 1, 1, 1, 1]\n",
      "Epoch: 6 loss: 0.04194\n",
      "actual class values:  [0, 0, 0, 1, 0, 1, 1, 1, 0, 1, 1, 3, 0, 1, 3, 0, 2, 1, 0, 2, 1, 1, 3, 1, 2, 1, 3, 1, 2, 3, 0, 1, 2, 1, 0, 2, 0, 2, 3, 1, 2, 1, 1, 1, 0, 1, 1, 2, 1, 3, 1, 1, 1, 1, 1, 1, 1, 1, 1, 1, 2, 1, 3, 0, 1, 0, 1, 0, 0, 1, 0, 1, 0, 0, 0, 1, 1, 1, 0, 2, 0, 1, 0, 0, 2, 3, 1, 1, 0, 0, 0, 0, 1, 2, 3, 1, 0, 0, 1, 0, 0, 0, 1, 3]\n",
      "predicted class values:  [1, 1, 1, 1, 1, 1, 1, 1, 1, 1, 1, 2, 1, 1, 2, 1, 2, 1, 1, 2, 1, 1, 1, 1, 2, 1, 1, 1, 2, 2, 1, 1, 2, 1, 1, 2, 1, 2, 2, 1, 1, 1, 1, 1, 1, 1, 1, 2, 1, 2, 1, 1, 1, 1, 1, 1, 1, 1, 1, 1, 2, 1, 2, 1, 1, 1, 1, 1, 1, 1, 1, 1, 1, 1, 1, 1, 1, 1, 1, 2, 1, 1, 1, 1, 2, 2, 1, 1, 1, 1, 1, 1, 1, 2, 2, 1, 1, 1, 1, 1, 1, 1, 1, 2]\n",
      "actual class values:  [1, 2, 0, 3, 3, 1, 2, 1, 1, 3, 2, 1, 1, 1, 2, 1, 1, 1, 1, 3, 2, 1, 0, 3, 1, 0, 1, 1, 1]\n"
     ]
    },
    {
     "name": "stderr",
     "output_type": "stream",
     "text": [
      "\r\n",
      " 60%|██████    | 6/10 [01:00<00:40, 10.03s/it]"
     ]
    },
    {
     "name": "stdout",
     "output_type": "stream",
     "text": [
      "predicted class values:  [2, 1, 1, 2, 1, 1, 1, 1, 1, 1, 1, 1, 1, 1, 1, 1, 2, 1, 1, 1, 1, 1, 1, 1, 1, 1, 1, 1, 1]\n",
      "Epoch: 7 loss: 0.03900\n",
      "actual class values:  [0, 0, 0, 1, 0, 1, 1, 1, 0, 1, 1, 3, 0, 1, 3, 0, 2, 1, 0, 2, 1, 1, 3, 1, 2, 1, 3, 1, 2, 3, 0, 1, 2, 1, 0, 2, 0, 2, 3, 1, 2, 1, 1, 1, 0, 1, 1, 2, 1, 3, 1, 1, 1, 1, 1, 1, 1, 1, 1, 1, 2, 1, 3, 0, 1, 0, 1, 0, 0, 1, 0, 1, 0, 0, 0, 1, 1, 1, 0, 2, 0, 1, 0, 0, 2, 3, 1, 1, 0, 0, 0, 0, 1, 2, 3, 1, 0, 0, 1, 0, 0, 0, 1, 3]\n",
      "predicted class values:  [1, 1, 1, 1, 1, 1, 1, 1, 1, 1, 1, 2, 1, 1, 2, 1, 1, 1, 1, 2, 1, 1, 1, 1, 2, 1, 1, 1, 2, 2, 1, 1, 1, 1, 1, 2, 1, 2, 2, 1, 1, 1, 1, 1, 1, 1, 1, 2, 1, 2, 1, 1, 1, 1, 1, 1, 1, 1, 1, 1, 2, 1, 2, 1, 1, 1, 1, 1, 1, 1, 1, 1, 1, 1, 1, 1, 1, 1, 1, 2, 1, 1, 1, 1, 2, 2, 1, 1, 1, 1, 1, 1, 1, 2, 2, 1, 1, 1, 1, 1, 1, 1, 1, 2]\n",
      "actual class values:  [1, 2, 0, 3, 3, 1, 2, 1, 1, 3, 2, 1, 1, 1, 2, 1, 1, 1, 1, 3, 2, 1, 0, 3, 1, 0, 1, 1, 1]\n"
     ]
    },
    {
     "name": "stderr",
     "output_type": "stream",
     "text": [
      "\r\n",
      " 70%|███████   | 7/10 [01:11<00:31, 10.37s/it]"
     ]
    },
    {
     "name": "stdout",
     "output_type": "stream",
     "text": [
      "predicted class values:  [2, 1, 1, 2, 1, 1, 0, 1, 1, 1, 1, 1, 1, 1, 1, 1, 2, 1, 0, 1, 1, 1, 1, 1, 1, 1, 1, 1, 1]\n",
      "Epoch: 8 loss: 0.03827\n",
      "actual class values:  [0, 0, 0, 1, 0, 1, 1, 1, 0, 1, 1, 3, 0, 1, 3, 0, 2, 1, 0, 2, 1, 1, 3, 1, 2, 1, 3, 1, 2, 3, 0, 1, 2, 1, 0, 2, 0, 2, 3, 1, 2, 1, 1, 1, 0, 1, 1, 2, 1, 3, 1, 1, 1, 1, 1, 1, 1, 1, 1, 1, 2, 1, 3, 0, 1, 0, 1, 0, 0, 1, 0, 1, 0, 0, 0, 1, 1, 1, 0, 2, 0, 1, 0, 0, 2, 3, 1, 1, 0, 0, 0, 0, 1, 2, 3, 1, 0, 0, 1, 0, 0, 0, 1, 3]\n",
      "predicted class values:  [1, 1, 1, 1, 1, 1, 1, 1, 1, 1, 1, 2, 1, 1, 2, 1, 2, 1, 1, 2, 1, 1, 1, 1, 2, 1, 2, 1, 2, 2, 1, 1, 1, 1, 1, 2, 1, 2, 2, 1, 2, 1, 1, 1, 1, 1, 1, 2, 1, 2, 1, 1, 1, 1, 1, 1, 1, 1, 1, 1, 2, 1, 2, 1, 1, 1, 1, 1, 1, 1, 1, 1, 1, 1, 1, 1, 1, 1, 1, 2, 1, 1, 1, 1, 2, 2, 1, 1, 1, 1, 1, 1, 1, 2, 2, 1, 1, 1, 1, 1, 1, 1, 1, 2]\n",
      "actual class values:  [1, 2, 0, 3, 3, 1, 2, 1, 1, 3, 2, 1, 1, 1, 2, 1, 1, 1, 1, 3, 2, 1, 0, 3, 1, 0, 1, 1, 1]\n"
     ]
    },
    {
     "name": "stderr",
     "output_type": "stream",
     "text": [
      "\r\n",
      " 80%|████████  | 8/10 [01:22<00:20, 10.29s/it]"
     ]
    },
    {
     "name": "stdout",
     "output_type": "stream",
     "text": [
      "predicted class values:  [2, 1, 1, 2, 1, 1, 1, 1, 1, 1, 1, 1, 1, 1, 1, 1, 2, 1, 0, 1, 1, 1, 1, 1, 1, 1, 1, 1, 0]\n",
      "Epoch: 9 loss: 0.03881\n",
      "actual class values:  [0, 0, 0, 1, 0, 1, 1, 1, 0, 1, 1, 3, 0, 1, 3, 0, 2, 1, 0, 2, 1, 1, 3, 1, 2, 1, 3, 1, 2, 3, 0, 1, 2, 1, 0, 2, 0, 2, 3, 1, 2, 1, 1, 1, 0, 1, 1, 2, 1, 3, 1, 1, 1, 1, 1, 1, 1, 1, 1, 1, 2, 1, 3, 0, 1, 0, 1, 0, 0, 1, 0, 1, 0, 0, 0, 1, 1, 1, 0, 2, 0, 1, 0, 0, 2, 3, 1, 1, 0, 0, 0, 0, 1, 2, 3, 1, 0, 0, 1, 0, 0, 0, 1, 3]\n",
      "predicted class values:  [1, 1, 1, 1, 1, 1, 1, 1, 1, 1, 1, 2, 1, 1, 2, 1, 2, 1, 1, 2, 1, 1, 2, 1, 2, 1, 0, 1, 2, 2, 1, 1, 0, 1, 1, 2, 1, 2, 2, 1, 2, 1, 1, 1, 1, 1, 1, 2, 1, 2, 1, 1, 1, 1, 1, 1, 1, 1, 1, 1, 2, 1, 2, 1, 1, 1, 1, 1, 1, 1, 1, 1, 1, 1, 1, 1, 1, 1, 1, 2, 1, 1, 1, 1, 2, 2, 1, 1, 1, 1, 1, 1, 1, 2, 2, 1, 1, 1, 1, 1, 1, 1, 1, 2]\n",
      "actual class values:  [1, 2, 0, 3, 3, 1, 2, 1, 1, 3, 2, 1, 1, 1, 2, 1, 1, 1, 1, 3, 2, 1, 0, 3, 1, 0, 1, 1, 1]\n"
     ]
    },
    {
     "name": "stderr",
     "output_type": "stream",
     "text": [
      "\r\n",
      " 90%|█████████ | 9/10 [01:32<00:10, 10.22s/it]"
     ]
    },
    {
     "name": "stdout",
     "output_type": "stream",
     "text": [
      "predicted class values:  [2, 1, 1, 2, 1, 1, 0, 1, 0, 1, 1, 1, 1, 1, 1, 1, 2, 1, 2, 1, 1, 1, 0, 0, 1, 1, 1, 1, 0]\n",
      "Epoch: 10 loss: 0.03710\n",
      "actual class values:  [0, 0, 0, 1, 0, 1, 1, 1, 0, 1, 1, 3, 0, 1, 3, 0, 2, 1, 0, 2, 1, 1, 3, 1, 2, 1, 3, 1, 2, 3, 0, 1, 2, 1, 0, 2, 0, 2, 3, 1, 2, 1, 1, 1, 0, 1, 1, 2, 1, 3, 1, 1, 1, 1, 1, 1, 1, 1, 1, 1, 2, 1, 3, 0, 1, 0, 1, 0, 0, 1, 0, 1, 0, 0, 0, 1, 1, 1, 0, 2, 0, 1, 0, 0, 2, 3, 1, 1, 0, 0, 0, 0, 1, 2, 3, 1, 0, 0, 1, 0, 0, 0, 1, 3]\n",
      "predicted class values:  [1, 1, 1, 1, 1, 1, 1, 1, 1, 1, 1, 2, 1, 1, 2, 1, 2, 1, 1, 2, 1, 1, 0, 1, 2, 1, 0, 1, 2, 2, 1, 1, 0, 1, 1, 2, 1, 2, 2, 1, 0, 1, 1, 1, 1, 1, 1, 2, 1, 2, 1, 1, 1, 1, 1, 1, 1, 1, 1, 1, 2, 1, 2, 1, 1, 1, 1, 1, 1, 1, 1, 1, 0, 1, 1, 1, 1, 1, 1, 2, 1, 1, 1, 1, 2, 2, 1, 1, 1, 1, 1, 1, 1, 2, 2, 1, 1, 1, 1, 1, 0, 1, 1, 2]\n",
      "actual class values:  [1, 2, 0, 3, 3, 1, 2, 1, 1, 3, 2, 1, 1, 1, 2, 1, 1, 1, 1, 3, 2, 1, 0, 3, 1, 0, 1, 1, 1]\n"
     ]
    },
    {
     "name": "stderr",
     "output_type": "stream",
     "text": [
      "100%|██████████| 10/10 [01:42<00:00, 10.23s/it]"
     ]
    },
    {
     "name": "stdout",
     "output_type": "stream",
     "text": [
      "predicted class values:  [2, 1, 1, 2, 1, 1, 0, 1, 0, 1, 1, 1, 1, 1, 1, 1, 2, 1, 0, 1, 1, 1, 0, 1, 1, 1, 1, 1, 0]\n"
     ]
    },
    {
     "name": "stderr",
     "output_type": "stream",
     "text": [
      "\n"
     ]
    },
    {
     "data": {
      "image/png": "[encoded data removed]",
      "text/plain": [
       "<Figure size 1152x648 with 1 Axes>"
      ]
     },
     "metadata": {},
     "output_type": "display_data"
    }
   ],
   "source": [
    "# Set learning parameters\n",
    "learning_rate = 0.001\n",
    "epochs = 10\n",
    "\n",
    "# Reconstruct motor activity sequences\n",
    "reconstructed_train, reconstructed_val, reconstructed_test = reconstruct_data_sequences(\n",
    "    [train_data, test_data, val_data], 48960\n",
    ")\n",
    "\n",
    "# Train the model\n",
    "model, train_f1s, val_f1s = train(\n",
    "    model,\n",
    "    reconstructed_train,\n",
    "    reconstructed_val,\n",
    "    learning_rate=learning_rate,\n",
    "    epochs=epochs,\n",
    "    device=device,\n",
    ")\n",
    "\n",
    "# Plot training progress\n",
    "plot_training_progress(train_f1s, val_f1s)"
   ]
  }
 ],
 "metadata": {
  "kernelspec": {
   "display_name": "Python 3 (ipykernel)",
   "language": "python",
   "name": "python3"
  },
  "language_info": {
   "codemirror_mode": {
    "name": "ipython",
    "version": 3
   },
   "file_extension": ".py",
   "mimetype": "text/x-python",
   "name": "python",
   "nbconvert_exporter": "python",
   "pygments_lexer": "ipython3",
   "version": "3.9.5 (default, May 18 2021, 12:31:01) \n[Clang 10.0.0 ]"
  },
  "vscode": {
   "interpreter": {
    "hash": "b513fcd15172e0ab5c82ae9faf700bcaae5a04cf934bd8de96a5365d13a55b94"
   }
  }
 },
 "nbformat": 4,
 "nbformat_minor": 2
}
